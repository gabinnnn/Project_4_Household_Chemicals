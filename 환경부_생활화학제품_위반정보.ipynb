{
 "cells": [
  {
   "cell_type": "code",
   "execution_count": 1,
   "metadata": {},
   "outputs": [
    {
     "data": {
      "text/plain": [
       "'환경부_생활화학제품 위반정보_20230630.csv'"
      ]
     },
     "execution_count": 1,
     "metadata": {},
     "output_type": "execute_result"
    }
   ],
   "source": [
    "import csv\n",
    "import pandas as pd\n",
    "products_violations = {}\n",
    "file_path = \"환경부_생활화학제품 위반정보_20230630.csv\"\n",
    "file_path"
   ]
  },
  {
   "cell_type": "code",
   "execution_count": 2,
   "metadata": {},
   "outputs": [
    {
     "data": {
      "text/html": [
       "<div>\n",
       "<style scoped>\n",
       "    .dataframe tbody tr th:only-of-type {\n",
       "        vertical-align: middle;\n",
       "    }\n",
       "\n",
       "    .dataframe tbody tr th {\n",
       "        vertical-align: top;\n",
       "    }\n",
       "\n",
       "    .dataframe thead th {\n",
       "        text-align: right;\n",
       "    }\n",
       "</style>\n",
       "<table border=\"1\" class=\"dataframe\">\n",
       "  <thead>\n",
       "    <tr style=\"text-align: right;\">\n",
       "      <th></th>\n",
       "      <th>제품명</th>\n",
       "      <th>제품군 대분류</th>\n",
       "      <th>제품군 중분류</th>\n",
       "      <th>제품군 소분류</th>\n",
       "      <th>업체명</th>\n",
       "      <th>업체주소</th>\n",
       "      <th>생산지</th>\n",
       "      <th>출처</th>\n",
       "      <th>처분권자</th>\n",
       "      <th>조치일자</th>\n",
       "      <th>조치내용</th>\n",
       "      <th>위반내용</th>\n",
       "      <th>기타</th>\n",
       "    </tr>\n",
       "  </thead>\n",
       "  <tbody>\n",
       "    <tr>\n",
       "      <th>0</th>\n",
       "      <td>희드라(가루세제)</td>\n",
       "      <td>세제류</td>\n",
       "      <td>세탁세제</td>\n",
       "      <td>세탁세제</td>\n",
       "      <td>[제조/판매] 천광(055-337-3501)</td>\n",
       "      <td>경상남도 함안군 군북면 함안산단6길 52</td>\n",
       "      <td>대한민국</td>\n",
       "      <td>생활화학제품 및 살생물제의 안전관리에 관한 법률</td>\n",
       "      <td>낙동강유역환경청</td>\n",
       "      <td>2023-02-21</td>\n",
       "      <td>제조금지,판매금지,회수명령</td>\n",
       "      <td>확인을 받지 아니한 제품 제조·판매</td>\n",
       "      <td>유효기간 만료일(21.11.19, 자가검사번호:F-A02B-M00020002-A15...</td>\n",
       "    </tr>\n",
       "    <tr>\n",
       "      <th>1</th>\n",
       "      <td>썬플라워캔들</td>\n",
       "      <td>기타류</td>\n",
       "      <td>초</td>\n",
       "      <td>초</td>\n",
       "      <td>[제조/판매] 썬플라워</td>\n",
       "      <td>부산광역시 기장군 정관읍 정관5로, 112동 1205호</td>\n",
       "      <td>대한민국</td>\n",
       "      <td>생활화학제품 및 살생물제의 안전관리에 관한 법률</td>\n",
       "      <td>낙동강유역환경청</td>\n",
       "      <td>2023-02-16</td>\n",
       "      <td>제조금지,판매금지,회수명령</td>\n",
       "      <td>확인을 받지 아니한 제품 제조·판매</td>\n",
       "      <td>자가검사번호(C-A09B-B128001-A160) 유효기간이 만료된 제품으로 201...</td>\n",
       "    </tr>\n",
       "    <tr>\n",
       "      <th>2</th>\n",
       "      <td>디퓨저(페어프리지아향)</td>\n",
       "      <td>방향제류</td>\n",
       "      <td>방향제</td>\n",
       "      <td>방향제</td>\n",
       "      <td>[제조/판매] Amour Christine</td>\n",
       "      <td>부산광역시 동래구 사직북로28번길 9</td>\n",
       "      <td>대한민국</td>\n",
       "      <td>생활화학제품 및 살생물제의 안전관리에 관한 법률</td>\n",
       "      <td>낙동강유역환경청</td>\n",
       "      <td>2023-03-29</td>\n",
       "      <td>판매금지,회수명령</td>\n",
       "      <td>확인을 받지 아니한 제품 제조·판매</td>\n",
       "      <td>NaN</td>\n",
       "    </tr>\n",
       "    <tr>\n",
       "      <th>3</th>\n",
       "      <td>트리캔들(우드앤솔트향)</td>\n",
       "      <td>기타류</td>\n",
       "      <td>초</td>\n",
       "      <td>초</td>\n",
       "      <td>[제조/판매] Amour Christine</td>\n",
       "      <td>부산광역시 동래구 사직북로28번길 9</td>\n",
       "      <td>대한민국</td>\n",
       "      <td>생활화학제품 및 살생물제의 안전관리에 관한 법률</td>\n",
       "      <td>낙동강유역환경청</td>\n",
       "      <td>2023-03-29</td>\n",
       "      <td>판매금지,회수명령</td>\n",
       "      <td>확인을 받지 아니한 제품 제조·판매</td>\n",
       "      <td>NaN</td>\n",
       "    </tr>\n",
       "    <tr>\n",
       "      <th>4</th>\n",
       "      <td>향기 리스타블렛(페어프리지아향)</td>\n",
       "      <td>방향제류</td>\n",
       "      <td>방향제</td>\n",
       "      <td>방향제</td>\n",
       "      <td>[제조/판매] Amour Christine</td>\n",
       "      <td>부산광역시 동래구 사직북로28번길 9</td>\n",
       "      <td>대한민국</td>\n",
       "      <td>생활화학제품 및 살생물제의 안전관리에 관한 법률</td>\n",
       "      <td>낙동강유역환경청</td>\n",
       "      <td>2023-03-29</td>\n",
       "      <td>제조금지,판매금지,회수명령</td>\n",
       "      <td>확인을 받지 아니한 제품 제조·판매</td>\n",
       "      <td>NaN</td>\n",
       "    </tr>\n",
       "  </tbody>\n",
       "</table>\n",
       "</div>"
      ],
      "text/plain": [
       "                 제품명 제품군 대분류 제품군 중분류 제품군 소분류                       업체명  \\\n",
       "0          희드라(가루세제)     세제류    세탁세제    세탁세제  [제조/판매] 천광(055-337-3501)   \n",
       "1             썬플라워캔들     기타류       초       초              [제조/판매] 썬플라워   \n",
       "2       디퓨저(페어프리지아향)    방향제류     방향제     방향제   [제조/판매] Amour Christine   \n",
       "3       트리캔들(우드앤솔트향)     기타류       초       초   [제조/판매] Amour Christine   \n",
       "4  향기 리스타블렛(페어프리지아향)    방향제류     방향제     방향제   [제조/판매] Amour Christine   \n",
       "\n",
       "                             업체주소   생산지                          출처      처분권자  \\\n",
       "0          경상남도 함안군 군북면 함안산단6길 52  대한민국  생활화학제품 및 살생물제의 안전관리에 관한 법률  낙동강유역환경청   \n",
       "1  부산광역시 기장군 정관읍 정관5로, 112동 1205호  대한민국  생활화학제품 및 살생물제의 안전관리에 관한 법률  낙동강유역환경청   \n",
       "2            부산광역시 동래구 사직북로28번길 9  대한민국  생활화학제품 및 살생물제의 안전관리에 관한 법률  낙동강유역환경청   \n",
       "3            부산광역시 동래구 사직북로28번길 9  대한민국  생활화학제품 및 살생물제의 안전관리에 관한 법률  낙동강유역환경청   \n",
       "4            부산광역시 동래구 사직북로28번길 9  대한민국  생활화학제품 및 살생물제의 안전관리에 관한 법률  낙동강유역환경청   \n",
       "\n",
       "         조치일자            조치내용                 위반내용  \\\n",
       "0  2023-02-21  제조금지,판매금지,회수명령  확인을 받지 아니한 제품 제조·판매   \n",
       "1  2023-02-16  제조금지,판매금지,회수명령  확인을 받지 아니한 제품 제조·판매   \n",
       "2  2023-03-29       판매금지,회수명령  확인을 받지 아니한 제품 제조·판매   \n",
       "3  2023-03-29       판매금지,회수명령  확인을 받지 아니한 제품 제조·판매   \n",
       "4  2023-03-29  제조금지,판매금지,회수명령  확인을 받지 아니한 제품 제조·판매   \n",
       "\n",
       "                                                  기타  \n",
       "0  유효기간 만료일(21.11.19, 자가검사번호:F-A02B-M00020002-A15...  \n",
       "1  자가검사번호(C-A09B-B128001-A160) 유효기간이 만료된 제품으로 201...  \n",
       "2                                                NaN  \n",
       "3                                                NaN  \n",
       "4                                                NaN  "
      ]
     },
     "execution_count": 2,
     "metadata": {},
     "output_type": "execute_result"
    }
   ],
   "source": [
    "data = pd.read_csv(file_path, encoding='euc-kr')\n",
    "data.head(5)"
   ]
  },
  {
   "cell_type": "code",
   "execution_count": 3,
   "metadata": {},
   "outputs": [
    {
     "name": "stdout",
     "output_type": "stream",
     "text": [
      "Index(['제품명', '제품군 대분류', '제품군 중분류', '제품군 소분류', '업체명', '업체주소', '생산지', '출처',\n",
      "       '처분권자', '조치일자', '조치내용', '위반내용', '기타'],\n",
      "      dtype='object')\n"
     ]
    }
   ],
   "source": [
    "print(data.columns)"
   ]
  },
  {
   "cell_type": "markdown",
   "metadata": {},
   "source": [
    "## 출처"
   ]
  },
  {
   "cell_type": "code",
   "execution_count": 4,
   "metadata": {},
   "outputs": [
    {
     "data": {
      "text/plain": [
       "array(['생활화학제품 및 살생물제의 안전관리에 관한 법률', '화학제품안전법 제10조 및 제36조',\n",
       "       '화학제품안전법 제10조 및 제35조', '화학제품안전법 제10조 및 제37조',\n",
       "       '화학제품안전법 제10조 및 제38조', '종전 화학물질등록 및 평가에 관한 법률', '자진신고',\n",
       "       '화학물질의 등록 및 평가 등에 관한 법률', '탈취제 (민트 향)',\n",
       "       '종전 화학물질의 등록 및 평가 등에 관한 법률, 생활화학제품 및 살생물제의 안전관리에 관한 법률',\n",
       "       'GULL 데미스타', '라일 디퓨저 130ml (그린아일랜드 향)', '뷰랩 버블 세정제', '잉글리쉬가든',\n",
       "       '미니로즈 캔들 (자몽 향)', '기도용종이컵초', '서라벌양초', '눈으로 확인하는 습기제거제', nan,\n",
       "       '종전 화학물질의 등록 및 평가 등에 관한 법률', '화학물질의 등록 및 평가등에 관한 법률',\n",
       "       '[생산자] 화학물질의 등록 및 평가 등에 관한 법률<br />[판매자] 생활화학제품 및 살생물제의 안전관리에 관한 법률'],\n",
       "      dtype=object)"
      ]
     },
     "execution_count": 4,
     "metadata": {},
     "output_type": "execute_result"
    }
   ],
   "source": [
    "import pandas as pd\n",
    "\n",
    "data = pd.read_csv(file_path, encoding='euc-kr')\n",
    "\n",
    "unique = data['출처'].unique()\n",
    "unique"
   ]
  },
  {
   "cell_type": "code",
   "execution_count": 5,
   "metadata": {},
   "outputs": [
    {
     "data": {
      "text/html": [
       "<div>\n",
       "<style scoped>\n",
       "    .dataframe tbody tr th:only-of-type {\n",
       "        vertical-align: middle;\n",
       "    }\n",
       "\n",
       "    .dataframe tbody tr th {\n",
       "        vertical-align: top;\n",
       "    }\n",
       "\n",
       "    .dataframe thead th {\n",
       "        text-align: right;\n",
       "    }\n",
       "</style>\n",
       "<table border=\"1\" class=\"dataframe\">\n",
       "  <thead>\n",
       "    <tr style=\"text-align: right;\">\n",
       "      <th></th>\n",
       "      <th>index</th>\n",
       "      <th>출처</th>\n",
       "    </tr>\n",
       "  </thead>\n",
       "  <tbody>\n",
       "    <tr>\n",
       "      <th>0</th>\n",
       "      <td>생활화학제품 및 살생물제의 안전관리에 관한 법률</td>\n",
       "      <td>3390</td>\n",
       "    </tr>\n",
       "    <tr>\n",
       "      <th>1</th>\n",
       "      <td>화학제품안전법 제10조 및 제35조</td>\n",
       "      <td>41</td>\n",
       "    </tr>\n",
       "    <tr>\n",
       "      <th>2</th>\n",
       "      <td>종전 화학물질의 등록 및 평가 등에 관한 법률, 생활화학제품 및 살생물제의 안전관리...</td>\n",
       "      <td>36</td>\n",
       "    </tr>\n",
       "    <tr>\n",
       "      <th>3</th>\n",
       "      <td>자진신고</td>\n",
       "      <td>33</td>\n",
       "    </tr>\n",
       "    <tr>\n",
       "      <th>4</th>\n",
       "      <td>화학제품안전법 제10조 및 제36조</td>\n",
       "      <td>13</td>\n",
       "    </tr>\n",
       "  </tbody>\n",
       "</table>\n",
       "</div>"
      ],
      "text/plain": [
       "                                               index    출처\n",
       "0                         생활화학제품 및 살생물제의 안전관리에 관한 법률  3390\n",
       "1                                화학제품안전법 제10조 및 제35조    41\n",
       "2  종전 화학물질의 등록 및 평가 등에 관한 법률, 생활화학제품 및 살생물제의 안전관리...    36\n",
       "3                                               자진신고    33\n",
       "4                                화학제품안전법 제10조 및 제36조    13"
      ]
     },
     "execution_count": 5,
     "metadata": {},
     "output_type": "execute_result"
    }
   ],
   "source": [
    "source_counts = data['출처'].value_counts().reset_index()\n",
    "source_counts.head(5)"
   ]
  },
  {
   "cell_type": "code",
   "execution_count": 6,
   "metadata": {},
   "outputs": [
    {
     "data": {
      "application/vnd.plotly.v1+json": {
       "config": {
        "plotlyServerURL": "https://plot.ly"
       },
       "data": [
        {
         "domain": {
          "x": [
           0,
           1
          ],
          "y": [
           0,
           1
          ]
         },
         "hovertemplate": "출처=%{label}<br>위반 정보 수=%{value}<extra></extra>",
         "labels": [
          "생활화학제품 및 살생물제의 안전관리에 관한 법률",
          "화학제품안전법 제10조 및 제35조",
          "종전 화학물질의 등록 및 평가 등에 관한 법률, 생활화학제품 및 살생물제의 안전관리에 관한 법률",
          "자진신고",
          "화학제품안전법 제10조 및 제36조"
         ],
         "legendgroup": "",
         "name": "",
         "showlegend": true,
         "type": "pie",
         "values": [
          3390,
          41,
          36,
          33,
          13
         ]
        }
       ],
       "layout": {
        "legend": {
         "tracegroupgap": 0
        },
        "template": {
         "data": {
          "bar": [
           {
            "error_x": {
             "color": "#2a3f5f"
            },
            "error_y": {
             "color": "#2a3f5f"
            },
            "marker": {
             "line": {
              "color": "#E5ECF6",
              "width": 0.5
             },
             "pattern": {
              "fillmode": "overlay",
              "size": 10,
              "solidity": 0.2
             }
            },
            "type": "bar"
           }
          ],
          "barpolar": [
           {
            "marker": {
             "line": {
              "color": "#E5ECF6",
              "width": 0.5
             },
             "pattern": {
              "fillmode": "overlay",
              "size": 10,
              "solidity": 0.2
             }
            },
            "type": "barpolar"
           }
          ],
          "carpet": [
           {
            "aaxis": {
             "endlinecolor": "#2a3f5f",
             "gridcolor": "white",
             "linecolor": "white",
             "minorgridcolor": "white",
             "startlinecolor": "#2a3f5f"
            },
            "baxis": {
             "endlinecolor": "#2a3f5f",
             "gridcolor": "white",
             "linecolor": "white",
             "minorgridcolor": "white",
             "startlinecolor": "#2a3f5f"
            },
            "type": "carpet"
           }
          ],
          "choropleth": [
           {
            "colorbar": {
             "outlinewidth": 0,
             "ticks": ""
            },
            "type": "choropleth"
           }
          ],
          "contour": [
           {
            "colorbar": {
             "outlinewidth": 0,
             "ticks": ""
            },
            "colorscale": [
             [
              0,
              "#0d0887"
             ],
             [
              0.1111111111111111,
              "#46039f"
             ],
             [
              0.2222222222222222,
              "#7201a8"
             ],
             [
              0.3333333333333333,
              "#9c179e"
             ],
             [
              0.4444444444444444,
              "#bd3786"
             ],
             [
              0.5555555555555556,
              "#d8576b"
             ],
             [
              0.6666666666666666,
              "#ed7953"
             ],
             [
              0.7777777777777778,
              "#fb9f3a"
             ],
             [
              0.8888888888888888,
              "#fdca26"
             ],
             [
              1,
              "#f0f921"
             ]
            ],
            "type": "contour"
           }
          ],
          "contourcarpet": [
           {
            "colorbar": {
             "outlinewidth": 0,
             "ticks": ""
            },
            "type": "contourcarpet"
           }
          ],
          "heatmap": [
           {
            "colorbar": {
             "outlinewidth": 0,
             "ticks": ""
            },
            "colorscale": [
             [
              0,
              "#0d0887"
             ],
             [
              0.1111111111111111,
              "#46039f"
             ],
             [
              0.2222222222222222,
              "#7201a8"
             ],
             [
              0.3333333333333333,
              "#9c179e"
             ],
             [
              0.4444444444444444,
              "#bd3786"
             ],
             [
              0.5555555555555556,
              "#d8576b"
             ],
             [
              0.6666666666666666,
              "#ed7953"
             ],
             [
              0.7777777777777778,
              "#fb9f3a"
             ],
             [
              0.8888888888888888,
              "#fdca26"
             ],
             [
              1,
              "#f0f921"
             ]
            ],
            "type": "heatmap"
           }
          ],
          "heatmapgl": [
           {
            "colorbar": {
             "outlinewidth": 0,
             "ticks": ""
            },
            "colorscale": [
             [
              0,
              "#0d0887"
             ],
             [
              0.1111111111111111,
              "#46039f"
             ],
             [
              0.2222222222222222,
              "#7201a8"
             ],
             [
              0.3333333333333333,
              "#9c179e"
             ],
             [
              0.4444444444444444,
              "#bd3786"
             ],
             [
              0.5555555555555556,
              "#d8576b"
             ],
             [
              0.6666666666666666,
              "#ed7953"
             ],
             [
              0.7777777777777778,
              "#fb9f3a"
             ],
             [
              0.8888888888888888,
              "#fdca26"
             ],
             [
              1,
              "#f0f921"
             ]
            ],
            "type": "heatmapgl"
           }
          ],
          "histogram": [
           {
            "marker": {
             "pattern": {
              "fillmode": "overlay",
              "size": 10,
              "solidity": 0.2
             }
            },
            "type": "histogram"
           }
          ],
          "histogram2d": [
           {
            "colorbar": {
             "outlinewidth": 0,
             "ticks": ""
            },
            "colorscale": [
             [
              0,
              "#0d0887"
             ],
             [
              0.1111111111111111,
              "#46039f"
             ],
             [
              0.2222222222222222,
              "#7201a8"
             ],
             [
              0.3333333333333333,
              "#9c179e"
             ],
             [
              0.4444444444444444,
              "#bd3786"
             ],
             [
              0.5555555555555556,
              "#d8576b"
             ],
             [
              0.6666666666666666,
              "#ed7953"
             ],
             [
              0.7777777777777778,
              "#fb9f3a"
             ],
             [
              0.8888888888888888,
              "#fdca26"
             ],
             [
              1,
              "#f0f921"
             ]
            ],
            "type": "histogram2d"
           }
          ],
          "histogram2dcontour": [
           {
            "colorbar": {
             "outlinewidth": 0,
             "ticks": ""
            },
            "colorscale": [
             [
              0,
              "#0d0887"
             ],
             [
              0.1111111111111111,
              "#46039f"
             ],
             [
              0.2222222222222222,
              "#7201a8"
             ],
             [
              0.3333333333333333,
              "#9c179e"
             ],
             [
              0.4444444444444444,
              "#bd3786"
             ],
             [
              0.5555555555555556,
              "#d8576b"
             ],
             [
              0.6666666666666666,
              "#ed7953"
             ],
             [
              0.7777777777777778,
              "#fb9f3a"
             ],
             [
              0.8888888888888888,
              "#fdca26"
             ],
             [
              1,
              "#f0f921"
             ]
            ],
            "type": "histogram2dcontour"
           }
          ],
          "mesh3d": [
           {
            "colorbar": {
             "outlinewidth": 0,
             "ticks": ""
            },
            "type": "mesh3d"
           }
          ],
          "parcoords": [
           {
            "line": {
             "colorbar": {
              "outlinewidth": 0,
              "ticks": ""
             }
            },
            "type": "parcoords"
           }
          ],
          "pie": [
           {
            "automargin": true,
            "type": "pie"
           }
          ],
          "scatter": [
           {
            "fillpattern": {
             "fillmode": "overlay",
             "size": 10,
             "solidity": 0.2
            },
            "type": "scatter"
           }
          ],
          "scatter3d": [
           {
            "line": {
             "colorbar": {
              "outlinewidth": 0,
              "ticks": ""
             }
            },
            "marker": {
             "colorbar": {
              "outlinewidth": 0,
              "ticks": ""
             }
            },
            "type": "scatter3d"
           }
          ],
          "scattercarpet": [
           {
            "marker": {
             "colorbar": {
              "outlinewidth": 0,
              "ticks": ""
             }
            },
            "type": "scattercarpet"
           }
          ],
          "scattergeo": [
           {
            "marker": {
             "colorbar": {
              "outlinewidth": 0,
              "ticks": ""
             }
            },
            "type": "scattergeo"
           }
          ],
          "scattergl": [
           {
            "marker": {
             "colorbar": {
              "outlinewidth": 0,
              "ticks": ""
             }
            },
            "type": "scattergl"
           }
          ],
          "scattermapbox": [
           {
            "marker": {
             "colorbar": {
              "outlinewidth": 0,
              "ticks": ""
             }
            },
            "type": "scattermapbox"
           }
          ],
          "scatterpolar": [
           {
            "marker": {
             "colorbar": {
              "outlinewidth": 0,
              "ticks": ""
             }
            },
            "type": "scatterpolar"
           }
          ],
          "scatterpolargl": [
           {
            "marker": {
             "colorbar": {
              "outlinewidth": 0,
              "ticks": ""
             }
            },
            "type": "scatterpolargl"
           }
          ],
          "scatterternary": [
           {
            "marker": {
             "colorbar": {
              "outlinewidth": 0,
              "ticks": ""
             }
            },
            "type": "scatterternary"
           }
          ],
          "surface": [
           {
            "colorbar": {
             "outlinewidth": 0,
             "ticks": ""
            },
            "colorscale": [
             [
              0,
              "#0d0887"
             ],
             [
              0.1111111111111111,
              "#46039f"
             ],
             [
              0.2222222222222222,
              "#7201a8"
             ],
             [
              0.3333333333333333,
              "#9c179e"
             ],
             [
              0.4444444444444444,
              "#bd3786"
             ],
             [
              0.5555555555555556,
              "#d8576b"
             ],
             [
              0.6666666666666666,
              "#ed7953"
             ],
             [
              0.7777777777777778,
              "#fb9f3a"
             ],
             [
              0.8888888888888888,
              "#fdca26"
             ],
             [
              1,
              "#f0f921"
             ]
            ],
            "type": "surface"
           }
          ],
          "table": [
           {
            "cells": {
             "fill": {
              "color": "#EBF0F8"
             },
             "line": {
              "color": "white"
             }
            },
            "header": {
             "fill": {
              "color": "#C8D4E3"
             },
             "line": {
              "color": "white"
             }
            },
            "type": "table"
           }
          ]
         },
         "layout": {
          "annotationdefaults": {
           "arrowcolor": "#2a3f5f",
           "arrowhead": 0,
           "arrowwidth": 1
          },
          "autotypenumbers": "strict",
          "coloraxis": {
           "colorbar": {
            "outlinewidth": 0,
            "ticks": ""
           }
          },
          "colorscale": {
           "diverging": [
            [
             0,
             "#8e0152"
            ],
            [
             0.1,
             "#c51b7d"
            ],
            [
             0.2,
             "#de77ae"
            ],
            [
             0.3,
             "#f1b6da"
            ],
            [
             0.4,
             "#fde0ef"
            ],
            [
             0.5,
             "#f7f7f7"
            ],
            [
             0.6,
             "#e6f5d0"
            ],
            [
             0.7,
             "#b8e186"
            ],
            [
             0.8,
             "#7fbc41"
            ],
            [
             0.9,
             "#4d9221"
            ],
            [
             1,
             "#276419"
            ]
           ],
           "sequential": [
            [
             0,
             "#0d0887"
            ],
            [
             0.1111111111111111,
             "#46039f"
            ],
            [
             0.2222222222222222,
             "#7201a8"
            ],
            [
             0.3333333333333333,
             "#9c179e"
            ],
            [
             0.4444444444444444,
             "#bd3786"
            ],
            [
             0.5555555555555556,
             "#d8576b"
            ],
            [
             0.6666666666666666,
             "#ed7953"
            ],
            [
             0.7777777777777778,
             "#fb9f3a"
            ],
            [
             0.8888888888888888,
             "#fdca26"
            ],
            [
             1,
             "#f0f921"
            ]
           ],
           "sequentialminus": [
            [
             0,
             "#0d0887"
            ],
            [
             0.1111111111111111,
             "#46039f"
            ],
            [
             0.2222222222222222,
             "#7201a8"
            ],
            [
             0.3333333333333333,
             "#9c179e"
            ],
            [
             0.4444444444444444,
             "#bd3786"
            ],
            [
             0.5555555555555556,
             "#d8576b"
            ],
            [
             0.6666666666666666,
             "#ed7953"
            ],
            [
             0.7777777777777778,
             "#fb9f3a"
            ],
            [
             0.8888888888888888,
             "#fdca26"
            ],
            [
             1,
             "#f0f921"
            ]
           ]
          },
          "colorway": [
           "#636efa",
           "#EF553B",
           "#00cc96",
           "#ab63fa",
           "#FFA15A",
           "#19d3f3",
           "#FF6692",
           "#B6E880",
           "#FF97FF",
           "#FECB52"
          ],
          "font": {
           "color": "#2a3f5f"
          },
          "geo": {
           "bgcolor": "white",
           "lakecolor": "white",
           "landcolor": "#E5ECF6",
           "showlakes": true,
           "showland": true,
           "subunitcolor": "white"
          },
          "hoverlabel": {
           "align": "left"
          },
          "hovermode": "closest",
          "mapbox": {
           "style": "light"
          },
          "paper_bgcolor": "white",
          "plot_bgcolor": "#E5ECF6",
          "polar": {
           "angularaxis": {
            "gridcolor": "white",
            "linecolor": "white",
            "ticks": ""
           },
           "bgcolor": "#E5ECF6",
           "radialaxis": {
            "gridcolor": "white",
            "linecolor": "white",
            "ticks": ""
           }
          },
          "scene": {
           "xaxis": {
            "backgroundcolor": "#E5ECF6",
            "gridcolor": "white",
            "gridwidth": 2,
            "linecolor": "white",
            "showbackground": true,
            "ticks": "",
            "zerolinecolor": "white"
           },
           "yaxis": {
            "backgroundcolor": "#E5ECF6",
            "gridcolor": "white",
            "gridwidth": 2,
            "linecolor": "white",
            "showbackground": true,
            "ticks": "",
            "zerolinecolor": "white"
           },
           "zaxis": {
            "backgroundcolor": "#E5ECF6",
            "gridcolor": "white",
            "gridwidth": 2,
            "linecolor": "white",
            "showbackground": true,
            "ticks": "",
            "zerolinecolor": "white"
           }
          },
          "shapedefaults": {
           "line": {
            "color": "#2a3f5f"
           }
          },
          "ternary": {
           "aaxis": {
            "gridcolor": "white",
            "linecolor": "white",
            "ticks": ""
           },
           "baxis": {
            "gridcolor": "white",
            "linecolor": "white",
            "ticks": ""
           },
           "bgcolor": "#E5ECF6",
           "caxis": {
            "gridcolor": "white",
            "linecolor": "white",
            "ticks": ""
           }
          },
          "title": {
           "x": 0.05
          },
          "xaxis": {
           "automargin": true,
           "gridcolor": "white",
           "linecolor": "white",
           "ticks": "",
           "title": {
            "standoff": 15
           },
           "zerolinecolor": "white",
           "zerolinewidth": 2
          },
          "yaxis": {
           "automargin": true,
           "gridcolor": "white",
           "linecolor": "white",
           "ticks": "",
           "title": {
            "standoff": 15
           },
           "zerolinecolor": "white",
           "zerolinewidth": 2
          }
         }
        },
        "title": {
         "text": "Top 5 출처 위반 정보 비율"
        }
       }
      }
     },
     "metadata": {},
     "output_type": "display_data"
    }
   ],
   "source": [
    "import plotly.express as px\n",
    "\n",
    "source_counts = data['출처'].value_counts().reset_index()\n",
    "source_counts.columns = ['출처', '위반 정보 수']\n",
    "\n",
    "top_5_sources = source_counts.head(5)\n",
    "\n",
    "fig = px.pie(top_5_sources, values='위반 정보 수', names='출처', title='Top 5 출처 위반 정보 비율')\n",
    "fig.show()"
   ]
  },
  {
   "cell_type": "code",
   "execution_count": 7,
   "metadata": {},
   "outputs": [
    {
     "data": {
      "text/plain": [
       "Index(['제품명', '제품군 대분류', '제품군 중분류', '제품군 소분류', '업체명', '업체주소', '생산지', '출처',\n",
       "       '처분권자', '조치일자', '조치내용', '위반내용', '기타'],\n",
       "      dtype='object')"
      ]
     },
     "execution_count": 7,
     "metadata": {},
     "output_type": "execute_result"
    }
   ],
   "source": [
    "data.columns"
   ]
  },
  {
   "cell_type": "code",
   "execution_count": 8,
   "metadata": {},
   "outputs": [
    {
     "data": {
      "text/html": [
       "<div>\n",
       "<style scoped>\n",
       "    .dataframe tbody tr th:only-of-type {\n",
       "        vertical-align: middle;\n",
       "    }\n",
       "\n",
       "    .dataframe tbody tr th {\n",
       "        vertical-align: top;\n",
       "    }\n",
       "\n",
       "    .dataframe thead th {\n",
       "        text-align: right;\n",
       "    }\n",
       "</style>\n",
       "<table border=\"1\" class=\"dataframe\">\n",
       "  <thead>\n",
       "    <tr style=\"text-align: right;\">\n",
       "      <th></th>\n",
       "      <th>제품명</th>\n",
       "      <th>제품군 대분류</th>\n",
       "      <th>제품군 중분류</th>\n",
       "      <th>제품군 소분류</th>\n",
       "      <th>업체명</th>\n",
       "      <th>업체주소</th>\n",
       "      <th>생산지</th>\n",
       "      <th>출처</th>\n",
       "      <th>처분권자</th>\n",
       "      <th>조치일자</th>\n",
       "      <th>조치내용</th>\n",
       "      <th>위반내용</th>\n",
       "      <th>기타</th>\n",
       "    </tr>\n",
       "  </thead>\n",
       "  <tbody>\n",
       "    <tr>\n",
       "      <th>268</th>\n",
       "      <td>의류용 홈드라이 크리닝</td>\n",
       "      <td>세제류</td>\n",
       "      <td>세탁세제</td>\n",
       "      <td>세탁세제</td>\n",
       "      <td>[판매] 주식회사 쭈니마켓</td>\n",
       "      <td>경기도 파주시 경의로1114, 4층 405호 (야당동)</td>\n",
       "      <td>대한민국</td>\n",
       "      <td>생활화학제품 및 살생물제의 안전관리에 관한 법률</td>\n",
       "      <td>한강유역환경청</td>\n",
       "      <td>2022-06-24</td>\n",
       "      <td>판매금지, 회수명령</td>\n",
       "      <td>확인 미실시, 표시사항 미표기 제품 판매</td>\n",
       "      <td>NaN</td>\n",
       "    </tr>\n",
       "    <tr>\n",
       "      <th>269</th>\n",
       "      <td>작은새(잉글리쉬 페어&amp;후리지아 향)</td>\n",
       "      <td>기타류</td>\n",
       "      <td>초</td>\n",
       "      <td>초</td>\n",
       "      <td>[제조/판매] 모야씨작업실</td>\n",
       "      <td>경기도 김포시 김포한강9로12번길 50, 404동 304호 (구래동, 김포한강신도시...</td>\n",
       "      <td>NaN</td>\n",
       "      <td>생활화학제품 및 살생물제의 안전관리에 관한 법률</td>\n",
       "      <td>한강유역환경청</td>\n",
       "      <td>2022-07-18</td>\n",
       "      <td>제조금지,판매금지,회수명령</td>\n",
       "      <td>신고 미실시 및 표시사항 미표기</td>\n",
       "      <td>안전기준 적합확인 신고(제CB21-26-0538호) 완료(2021.6.29.)한 제...</td>\n",
       "    </tr>\n",
       "    <tr>\n",
       "      <th>270</th>\n",
       "      <td>프리저브드 왁스타블렛(플라워 바이 겐조 향)</td>\n",
       "      <td>방향제류</td>\n",
       "      <td>방향제</td>\n",
       "      <td>방향제</td>\n",
       "      <td>[제조/판매] 모야씨작업실</td>\n",
       "      <td>경기도 김포시 김포한강9로12번길 50, 404동 304호 (구래동, 김포한강신도시...</td>\n",
       "      <td>NaN</td>\n",
       "      <td>생활화학제품 및 살생물제의 안전관리에 관한 법률</td>\n",
       "      <td>한강유역환경청</td>\n",
       "      <td>2022-07-18</td>\n",
       "      <td>제조금지,판매금지,회수명령</td>\n",
       "      <td>확인 미실시 및 표시사항 미표기</td>\n",
       "      <td>NaN</td>\n",
       "    </tr>\n",
       "    <tr>\n",
       "      <th>271</th>\n",
       "      <td>일라토스 디퓨저(블랙체리 향)</td>\n",
       "      <td>방향제류</td>\n",
       "      <td>방향제</td>\n",
       "      <td>방향제</td>\n",
       "      <td>[제조/판매] (주)일라토스(031-8089-7703)</td>\n",
       "      <td>경기도 김포시 월곶면 군하로26, 나동</td>\n",
       "      <td>대한민국</td>\n",
       "      <td>생활화학제품 및 살생물제의 안전관리에 관한 법률</td>\n",
       "      <td>한강유역환경청</td>\n",
       "      <td>2022-07-21</td>\n",
       "      <td>제조금지,판매금지,회수명령</td>\n",
       "      <td>확인 미실시 및 표시사항 미표기</td>\n",
       "      <td>파생신고(제FB21-12-0674호) 완료(2021.4.26.)한 제품(일라토스 디...</td>\n",
       "    </tr>\n",
       "    <tr>\n",
       "      <th>272</th>\n",
       "      <td>메가네 후키후키 클리너</td>\n",
       "      <td>코팅/접착제류</td>\n",
       "      <td>특수목적 코팅제</td>\n",
       "      <td>특수목적코팅제</td>\n",
       "      <td>[판매] 디에스인터네셔널 주식회사(070-7582-1244)</td>\n",
       "      <td>서울특별시 마포구 큰우물로 76 4층 403호</td>\n",
       "      <td>일본</td>\n",
       "      <td>생활화학제품 및 살생물제의 안전관리에 관한 법률</td>\n",
       "      <td>한강유역환경청</td>\n",
       "      <td>2022-07-27</td>\n",
       "      <td>판매금지, 회수명령</td>\n",
       "      <td>확인 미실시 및 표시사항 미표기</td>\n",
       "      <td>NaN</td>\n",
       "    </tr>\n",
       "    <tr>\n",
       "      <th>...</th>\n",
       "      <td>...</td>\n",
       "      <td>...</td>\n",
       "      <td>...</td>\n",
       "      <td>...</td>\n",
       "      <td>...</td>\n",
       "      <td>...</td>\n",
       "      <td>...</td>\n",
       "      <td>...</td>\n",
       "      <td>...</td>\n",
       "      <td>...</td>\n",
       "      <td>...</td>\n",
       "      <td>...</td>\n",
       "      <td>...</td>\n",
       "    </tr>\n",
       "    <tr>\n",
       "      <th>2111</th>\n",
       "      <td>수박 캔들(필라캔들) (한라산의향+가든스윗피)</td>\n",
       "      <td>기타류</td>\n",
       "      <td>초</td>\n",
       "      <td>초·탈취제·습기제거제</td>\n",
       "      <td>[제조/판매] 포마이디어</td>\n",
       "      <td>서울특별시 관악구 신림로70길 42, 701호(신림동, 레오팔레스)</td>\n",
       "      <td>대한민국</td>\n",
       "      <td>생활화학제품 및 살생물제의 안전관리에 관한 법률</td>\n",
       "      <td>한강유역환경청</td>\n",
       "      <td>2022-01-05</td>\n",
       "      <td>제조금지, 판매금지, 회수명령</td>\n",
       "      <td>확인 미실시 및 표시사항 미표기</td>\n",
       "      <td>NaN</td>\n",
       "    </tr>\n",
       "    <tr>\n",
       "      <th>2112</th>\n",
       "      <td>200호</td>\n",
       "      <td>기타류</td>\n",
       "      <td>초</td>\n",
       "      <td>초</td>\n",
       "      <td>[제조] 미래상사</td>\n",
       "      <td>전라남도 담양군 봉산면 연산길 28</td>\n",
       "      <td>대한민국</td>\n",
       "      <td>생활화학제품 및 살생물제의 안전관리에 관한 법률</td>\n",
       "      <td>영산강유역환경청</td>\n",
       "      <td>2022-01-10</td>\n",
       "      <td>제조금지, 판매금지, 회수명령</td>\n",
       "      <td>안전·표시기준 위반</td>\n",
       "      <td>○ 안전기준 미확인제품 제조·판매</td>\n",
       "    </tr>\n",
       "    <tr>\n",
       "      <th>2113</th>\n",
       "      <td>소이캔들(라임바질만다린)</td>\n",
       "      <td>기타류</td>\n",
       "      <td>초</td>\n",
       "      <td>초</td>\n",
       "      <td>[제조/판매] 쏘다랑</td>\n",
       "      <td>광주광역시 남구 봉선1로 45-1</td>\n",
       "      <td>대한민국</td>\n",
       "      <td>생활화학제품 및 살생물제의 안전관리에 관한 법률</td>\n",
       "      <td>영산강유역환경청</td>\n",
       "      <td>2022-01-10</td>\n",
       "      <td>제조금지, 판매금지, 회수명령</td>\n",
       "      <td>안전·표시기준 위반</td>\n",
       "      <td>○ 확인받은 향과 다른 향을 파생제품으로 신고하지 않고 파생신고전 유효하지 않은 번...</td>\n",
       "    </tr>\n",
       "    <tr>\n",
       "      <th>2114</th>\n",
       "      <td>메리고캔들(그린티 유자 향)</td>\n",
       "      <td>기타류</td>\n",
       "      <td>초</td>\n",
       "      <td>초</td>\n",
       "      <td>[제조/판매] 플람캔들</td>\n",
       "      <td>전라남도 화순군 화순읍 부처샘길 1-3</td>\n",
       "      <td>대한민국</td>\n",
       "      <td>생활화학제품 및 살생물제의 안전관리에 관한 법률</td>\n",
       "      <td>영산강유역환경청</td>\n",
       "      <td>2022-01-10</td>\n",
       "      <td>제조금지, 판매금지, 회수명령</td>\n",
       "      <td>안전·표시기준 위반</td>\n",
       "      <td>○ 확인받은 향과 다른 향을 파생제품으로 신고하지 않고 표시기준을 전체 미표기한 제...</td>\n",
       "    </tr>\n",
       "    <tr>\n",
       "      <th>2115</th>\n",
       "      <td>비트코인 석고방향제(그린티유자 향)</td>\n",
       "      <td>방향제류</td>\n",
       "      <td>방향제</td>\n",
       "      <td>방향제</td>\n",
       "      <td>[제조/판매] 플람캔들</td>\n",
       "      <td>전라남도 화순군 화순읍 부처샘길 1-3</td>\n",
       "      <td>대한민국</td>\n",
       "      <td>생활화학제품 및 살생물제의 안전관리에 관한 법률</td>\n",
       "      <td>영산강유역환경청</td>\n",
       "      <td>2022-01-10</td>\n",
       "      <td>제조금지, 판매금지, 회수명령</td>\n",
       "      <td>안전·표시기준 위반</td>\n",
       "      <td>○ 안전기준 미확인 제품 제조·판매</td>\n",
       "    </tr>\n",
       "  </tbody>\n",
       "</table>\n",
       "<p>1551 rows × 13 columns</p>\n",
       "</div>"
      ],
      "text/plain": [
       "                            제품명  제품군 대분류   제품군 중분류      제품군 소분류  \\\n",
       "268                의류용 홈드라이 크리닝      세제류      세탁세제         세탁세제   \n",
       "269         작은새(잉글리쉬 페어&후리지아 향)      기타류         초            초   \n",
       "270    프리저브드 왁스타블렛(플라워 바이 겐조 향)     방향제류       방향제          방향제   \n",
       "271            일라토스 디퓨저(블랙체리 향)     방향제류       방향제          방향제   \n",
       "272                메가네 후키후키 클리너  코팅/접착제류  특수목적 코팅제      특수목적코팅제   \n",
       "...                         ...      ...       ...          ...   \n",
       "2111  수박 캔들(필라캔들) (한라산의향+가든스윗피)      기타류         초  초·탈취제·습기제거제   \n",
       "2112                       200호      기타류         초            초   \n",
       "2113              소이캔들(라임바질만다린)      기타류         초            초   \n",
       "2114            메리고캔들(그린티 유자 향)      기타류         초            초   \n",
       "2115        비트코인 석고방향제(그린티유자 향)     방향제류       방향제          방향제   \n",
       "\n",
       "                                    업체명  \\\n",
       "268                      [판매] 주식회사 쭈니마켓   \n",
       "269                      [제조/판매] 모야씨작업실   \n",
       "270                      [제조/판매] 모야씨작업실   \n",
       "271      [제조/판매] (주)일라토스(031-8089-7703)   \n",
       "272   [판매] 디에스인터네셔널 주식회사(070-7582-1244)   \n",
       "...                                 ...   \n",
       "2111                      [제조/판매] 포마이디어   \n",
       "2112                          [제조] 미래상사   \n",
       "2113                        [제조/판매] 쏘다랑   \n",
       "2114                       [제조/판매] 플람캔들   \n",
       "2115                       [제조/판매] 플람캔들   \n",
       "\n",
       "                                                   업체주소   생산지  \\\n",
       "268                      경기도 파주시 경의로1114, 4층 405호 (야당동)  대한민국   \n",
       "269   경기도 김포시 김포한강9로12번길 50, 404동 304호 (구래동, 김포한강신도시...   NaN   \n",
       "270   경기도 김포시 김포한강9로12번길 50, 404동 304호 (구래동, 김포한강신도시...   NaN   \n",
       "271                               경기도 김포시 월곶면 군하로26, 나동  대한민국   \n",
       "272                           서울특별시 마포구 큰우물로 76 4층 403호    일본   \n",
       "...                                                 ...   ...   \n",
       "2111              서울특별시 관악구 신림로70길 42, 701호(신림동, 레오팔레스)  대한민국   \n",
       "2112                                전라남도 담양군 봉산면 연산길 28  대한민국   \n",
       "2113                                 광주광역시 남구 봉선1로 45-1  대한민국   \n",
       "2114                              전라남도 화순군 화순읍 부처샘길 1-3  대한민국   \n",
       "2115                              전라남도 화순군 화순읍 부처샘길 1-3  대한민국   \n",
       "\n",
       "                              출처      처분권자       조치일자              조치내용  \\\n",
       "268   생활화학제품 및 살생물제의 안전관리에 관한 법률   한강유역환경청 2022-06-24        판매금지, 회수명령   \n",
       "269   생활화학제품 및 살생물제의 안전관리에 관한 법률   한강유역환경청 2022-07-18    제조금지,판매금지,회수명령   \n",
       "270   생활화학제품 및 살생물제의 안전관리에 관한 법률   한강유역환경청 2022-07-18    제조금지,판매금지,회수명령   \n",
       "271   생활화학제품 및 살생물제의 안전관리에 관한 법률   한강유역환경청 2022-07-21    제조금지,판매금지,회수명령   \n",
       "272   생활화학제품 및 살생물제의 안전관리에 관한 법률   한강유역환경청 2022-07-27        판매금지, 회수명령   \n",
       "...                          ...       ...        ...               ...   \n",
       "2111  생활화학제품 및 살생물제의 안전관리에 관한 법률   한강유역환경청 2022-01-05  제조금지, 판매금지, 회수명령   \n",
       "2112  생활화학제품 및 살생물제의 안전관리에 관한 법률  영산강유역환경청 2022-01-10  제조금지, 판매금지, 회수명령   \n",
       "2113  생활화학제품 및 살생물제의 안전관리에 관한 법률  영산강유역환경청 2022-01-10  제조금지, 판매금지, 회수명령   \n",
       "2114  생활화학제품 및 살생물제의 안전관리에 관한 법률  영산강유역환경청 2022-01-10  제조금지, 판매금지, 회수명령   \n",
       "2115  생활화학제품 및 살생물제의 안전관리에 관한 법률  영산강유역환경청 2022-01-10  제조금지, 판매금지, 회수명령   \n",
       "\n",
       "                        위반내용  \\\n",
       "268   확인 미실시, 표시사항 미표기 제품 판매   \n",
       "269        신고 미실시 및 표시사항 미표기   \n",
       "270        확인 미실시 및 표시사항 미표기   \n",
       "271        확인 미실시 및 표시사항 미표기   \n",
       "272        확인 미실시 및 표시사항 미표기   \n",
       "...                      ...   \n",
       "2111       확인 미실시 및 표시사항 미표기   \n",
       "2112              안전·표시기준 위반   \n",
       "2113              안전·표시기준 위반   \n",
       "2114              안전·표시기준 위반   \n",
       "2115              안전·표시기준 위반   \n",
       "\n",
       "                                                     기타  \n",
       "268                                                 NaN  \n",
       "269   안전기준 적합확인 신고(제CB21-26-0538호) 완료(2021.6.29.)한 제...  \n",
       "270                                                 NaN  \n",
       "271   파생신고(제FB21-12-0674호) 완료(2021.4.26.)한 제품(일라토스 디...  \n",
       "272                                                 NaN  \n",
       "...                                                 ...  \n",
       "2111                                                NaN  \n",
       "2112                                 ○ 안전기준 미확인제품 제조·판매  \n",
       "2113  ○ 확인받은 향과 다른 향을 파생제품으로 신고하지 않고 파생신고전 유효하지 않은 번...  \n",
       "2114  ○ 확인받은 향과 다른 향을 파생제품으로 신고하지 않고 표시기준을 전체 미표기한 제...  \n",
       "2115                                ○ 안전기준 미확인 제품 제조·판매  \n",
       "\n",
       "[1551 rows x 13 columns]"
      ]
     },
     "execution_count": 8,
     "metadata": {},
     "output_type": "execute_result"
    }
   ],
   "source": [
    "data['조치일자'] = pd.to_datetime(data['조치일자'])\n",
    "\n",
    "filtered_df = data[data['조치일자'].dt.year == 2022]\n",
    "filtered_df"
   ]
  },
  {
   "cell_type": "code",
   "execution_count": 9,
   "metadata": {},
   "outputs": [
    {
     "data": {
      "text/plain": [
       "생활화학제품 및 살생물제의 안전관리에 관한 법률    1515\n",
       "자진신고                            33\n",
       "화학물질의 등록 및 평가 등에 관한 법률           2\n",
       "종전 화학물질등록 및 평가에 관한 법률            1\n",
       "Name: 출처, dtype: int64"
      ]
     },
     "execution_count": 9,
     "metadata": {},
     "output_type": "execute_result"
    }
   ],
   "source": [
    "source_counts1 = filtered_df['출처'].value_counts()\n",
    "source_counts1"
   ]
  },
  {
   "cell_type": "code",
   "execution_count": 11,
   "metadata": {},
   "outputs": [
    {
     "name": "stderr",
     "output_type": "stream",
     "text": [
      "C:\\Users\\leegabin\\AppData\\Local\\Temp\\ipykernel_2792\\465536706.py:15: SettingWithCopyWarning:\n",
      "\n",
      "\n",
      "A value is trying to be set on a copy of a slice from a DataFrame.\n",
      "Try using .loc[row_indexer,col_indexer] = value instead\n",
      "\n",
      "See the caveats in the documentation: https://pandas.pydata.org/pandas-docs/stable/user_guide/indexing.html#returning-a-view-versus-a-copy\n",
      "\n"
     ]
    },
    {
     "data": {
      "application/vnd.plotly.v1+json": {
       "config": {
        "plotlyServerURL": "https://plot.ly"
       },
       "data": [
        {
         "domain": {
          "x": [
           0,
           1
          ],
          "y": [
           0,
           1
          ]
         },
         "hovertemplate": "출처=%{label}<br>위반 정보 수=%{value}<extra></extra>",
         "labels": [
          "생활화학제품 및 살생물제의 안전관리에 관한 법률",
          "자진신고",
          "화학물질의 등록 및 평가 등에 관한 법률",
          "종전 화학물질등록 및 평가에 관한 법률"
         ],
         "legendgroup": "",
         "name": "",
         "showlegend": true,
         "text": [
          "97.68%",
          "2.13%",
          "0.13%",
          "0.06%"
         ],
         "textfont": {
          "size": 16
         },
         "textinfo": "label+text",
         "type": "pie",
         "values": [
          1515,
          33,
          2,
          1
         ]
        }
       ],
       "layout": {
        "legend": {
         "font": {
          "size": 17
         },
         "tracegroupgap": 0
        },
        "template": {
         "data": {
          "bar": [
           {
            "error_x": {
             "color": "#2a3f5f"
            },
            "error_y": {
             "color": "#2a3f5f"
            },
            "marker": {
             "line": {
              "color": "#E5ECF6",
              "width": 0.5
             },
             "pattern": {
              "fillmode": "overlay",
              "size": 10,
              "solidity": 0.2
             }
            },
            "type": "bar"
           }
          ],
          "barpolar": [
           {
            "marker": {
             "line": {
              "color": "#E5ECF6",
              "width": 0.5
             },
             "pattern": {
              "fillmode": "overlay",
              "size": 10,
              "solidity": 0.2
             }
            },
            "type": "barpolar"
           }
          ],
          "carpet": [
           {
            "aaxis": {
             "endlinecolor": "#2a3f5f",
             "gridcolor": "white",
             "linecolor": "white",
             "minorgridcolor": "white",
             "startlinecolor": "#2a3f5f"
            },
            "baxis": {
             "endlinecolor": "#2a3f5f",
             "gridcolor": "white",
             "linecolor": "white",
             "minorgridcolor": "white",
             "startlinecolor": "#2a3f5f"
            },
            "type": "carpet"
           }
          ],
          "choropleth": [
           {
            "colorbar": {
             "outlinewidth": 0,
             "ticks": ""
            },
            "type": "choropleth"
           }
          ],
          "contour": [
           {
            "colorbar": {
             "outlinewidth": 0,
             "ticks": ""
            },
            "colorscale": [
             [
              0,
              "#0d0887"
             ],
             [
              0.1111111111111111,
              "#46039f"
             ],
             [
              0.2222222222222222,
              "#7201a8"
             ],
             [
              0.3333333333333333,
              "#9c179e"
             ],
             [
              0.4444444444444444,
              "#bd3786"
             ],
             [
              0.5555555555555556,
              "#d8576b"
             ],
             [
              0.6666666666666666,
              "#ed7953"
             ],
             [
              0.7777777777777778,
              "#fb9f3a"
             ],
             [
              0.8888888888888888,
              "#fdca26"
             ],
             [
              1,
              "#f0f921"
             ]
            ],
            "type": "contour"
           }
          ],
          "contourcarpet": [
           {
            "colorbar": {
             "outlinewidth": 0,
             "ticks": ""
            },
            "type": "contourcarpet"
           }
          ],
          "heatmap": [
           {
            "colorbar": {
             "outlinewidth": 0,
             "ticks": ""
            },
            "colorscale": [
             [
              0,
              "#0d0887"
             ],
             [
              0.1111111111111111,
              "#46039f"
             ],
             [
              0.2222222222222222,
              "#7201a8"
             ],
             [
              0.3333333333333333,
              "#9c179e"
             ],
             [
              0.4444444444444444,
              "#bd3786"
             ],
             [
              0.5555555555555556,
              "#d8576b"
             ],
             [
              0.6666666666666666,
              "#ed7953"
             ],
             [
              0.7777777777777778,
              "#fb9f3a"
             ],
             [
              0.8888888888888888,
              "#fdca26"
             ],
             [
              1,
              "#f0f921"
             ]
            ],
            "type": "heatmap"
           }
          ],
          "heatmapgl": [
           {
            "colorbar": {
             "outlinewidth": 0,
             "ticks": ""
            },
            "colorscale": [
             [
              0,
              "#0d0887"
             ],
             [
              0.1111111111111111,
              "#46039f"
             ],
             [
              0.2222222222222222,
              "#7201a8"
             ],
             [
              0.3333333333333333,
              "#9c179e"
             ],
             [
              0.4444444444444444,
              "#bd3786"
             ],
             [
              0.5555555555555556,
              "#d8576b"
             ],
             [
              0.6666666666666666,
              "#ed7953"
             ],
             [
              0.7777777777777778,
              "#fb9f3a"
             ],
             [
              0.8888888888888888,
              "#fdca26"
             ],
             [
              1,
              "#f0f921"
             ]
            ],
            "type": "heatmapgl"
           }
          ],
          "histogram": [
           {
            "marker": {
             "pattern": {
              "fillmode": "overlay",
              "size": 10,
              "solidity": 0.2
             }
            },
            "type": "histogram"
           }
          ],
          "histogram2d": [
           {
            "colorbar": {
             "outlinewidth": 0,
             "ticks": ""
            },
            "colorscale": [
             [
              0,
              "#0d0887"
             ],
             [
              0.1111111111111111,
              "#46039f"
             ],
             [
              0.2222222222222222,
              "#7201a8"
             ],
             [
              0.3333333333333333,
              "#9c179e"
             ],
             [
              0.4444444444444444,
              "#bd3786"
             ],
             [
              0.5555555555555556,
              "#d8576b"
             ],
             [
              0.6666666666666666,
              "#ed7953"
             ],
             [
              0.7777777777777778,
              "#fb9f3a"
             ],
             [
              0.8888888888888888,
              "#fdca26"
             ],
             [
              1,
              "#f0f921"
             ]
            ],
            "type": "histogram2d"
           }
          ],
          "histogram2dcontour": [
           {
            "colorbar": {
             "outlinewidth": 0,
             "ticks": ""
            },
            "colorscale": [
             [
              0,
              "#0d0887"
             ],
             [
              0.1111111111111111,
              "#46039f"
             ],
             [
              0.2222222222222222,
              "#7201a8"
             ],
             [
              0.3333333333333333,
              "#9c179e"
             ],
             [
              0.4444444444444444,
              "#bd3786"
             ],
             [
              0.5555555555555556,
              "#d8576b"
             ],
             [
              0.6666666666666666,
              "#ed7953"
             ],
             [
              0.7777777777777778,
              "#fb9f3a"
             ],
             [
              0.8888888888888888,
              "#fdca26"
             ],
             [
              1,
              "#f0f921"
             ]
            ],
            "type": "histogram2dcontour"
           }
          ],
          "mesh3d": [
           {
            "colorbar": {
             "outlinewidth": 0,
             "ticks": ""
            },
            "type": "mesh3d"
           }
          ],
          "parcoords": [
           {
            "line": {
             "colorbar": {
              "outlinewidth": 0,
              "ticks": ""
             }
            },
            "type": "parcoords"
           }
          ],
          "pie": [
           {
            "automargin": true,
            "type": "pie"
           }
          ],
          "scatter": [
           {
            "fillpattern": {
             "fillmode": "overlay",
             "size": 10,
             "solidity": 0.2
            },
            "type": "scatter"
           }
          ],
          "scatter3d": [
           {
            "line": {
             "colorbar": {
              "outlinewidth": 0,
              "ticks": ""
             }
            },
            "marker": {
             "colorbar": {
              "outlinewidth": 0,
              "ticks": ""
             }
            },
            "type": "scatter3d"
           }
          ],
          "scattercarpet": [
           {
            "marker": {
             "colorbar": {
              "outlinewidth": 0,
              "ticks": ""
             }
            },
            "type": "scattercarpet"
           }
          ],
          "scattergeo": [
           {
            "marker": {
             "colorbar": {
              "outlinewidth": 0,
              "ticks": ""
             }
            },
            "type": "scattergeo"
           }
          ],
          "scattergl": [
           {
            "marker": {
             "colorbar": {
              "outlinewidth": 0,
              "ticks": ""
             }
            },
            "type": "scattergl"
           }
          ],
          "scattermapbox": [
           {
            "marker": {
             "colorbar": {
              "outlinewidth": 0,
              "ticks": ""
             }
            },
            "type": "scattermapbox"
           }
          ],
          "scatterpolar": [
           {
            "marker": {
             "colorbar": {
              "outlinewidth": 0,
              "ticks": ""
             }
            },
            "type": "scatterpolar"
           }
          ],
          "scatterpolargl": [
           {
            "marker": {
             "colorbar": {
              "outlinewidth": 0,
              "ticks": ""
             }
            },
            "type": "scatterpolargl"
           }
          ],
          "scatterternary": [
           {
            "marker": {
             "colorbar": {
              "outlinewidth": 0,
              "ticks": ""
             }
            },
            "type": "scatterternary"
           }
          ],
          "surface": [
           {
            "colorbar": {
             "outlinewidth": 0,
             "ticks": ""
            },
            "colorscale": [
             [
              0,
              "#0d0887"
             ],
             [
              0.1111111111111111,
              "#46039f"
             ],
             [
              0.2222222222222222,
              "#7201a8"
             ],
             [
              0.3333333333333333,
              "#9c179e"
             ],
             [
              0.4444444444444444,
              "#bd3786"
             ],
             [
              0.5555555555555556,
              "#d8576b"
             ],
             [
              0.6666666666666666,
              "#ed7953"
             ],
             [
              0.7777777777777778,
              "#fb9f3a"
             ],
             [
              0.8888888888888888,
              "#fdca26"
             ],
             [
              1,
              "#f0f921"
             ]
            ],
            "type": "surface"
           }
          ],
          "table": [
           {
            "cells": {
             "fill": {
              "color": "#EBF0F8"
             },
             "line": {
              "color": "white"
             }
            },
            "header": {
             "fill": {
              "color": "#C8D4E3"
             },
             "line": {
              "color": "white"
             }
            },
            "type": "table"
           }
          ]
         },
         "layout": {
          "annotationdefaults": {
           "arrowcolor": "#2a3f5f",
           "arrowhead": 0,
           "arrowwidth": 1
          },
          "autotypenumbers": "strict",
          "coloraxis": {
           "colorbar": {
            "outlinewidth": 0,
            "ticks": ""
           }
          },
          "colorscale": {
           "diverging": [
            [
             0,
             "#8e0152"
            ],
            [
             0.1,
             "#c51b7d"
            ],
            [
             0.2,
             "#de77ae"
            ],
            [
             0.3,
             "#f1b6da"
            ],
            [
             0.4,
             "#fde0ef"
            ],
            [
             0.5,
             "#f7f7f7"
            ],
            [
             0.6,
             "#e6f5d0"
            ],
            [
             0.7,
             "#b8e186"
            ],
            [
             0.8,
             "#7fbc41"
            ],
            [
             0.9,
             "#4d9221"
            ],
            [
             1,
             "#276419"
            ]
           ],
           "sequential": [
            [
             0,
             "#0d0887"
            ],
            [
             0.1111111111111111,
             "#46039f"
            ],
            [
             0.2222222222222222,
             "#7201a8"
            ],
            [
             0.3333333333333333,
             "#9c179e"
            ],
            [
             0.4444444444444444,
             "#bd3786"
            ],
            [
             0.5555555555555556,
             "#d8576b"
            ],
            [
             0.6666666666666666,
             "#ed7953"
            ],
            [
             0.7777777777777778,
             "#fb9f3a"
            ],
            [
             0.8888888888888888,
             "#fdca26"
            ],
            [
             1,
             "#f0f921"
            ]
           ],
           "sequentialminus": [
            [
             0,
             "#0d0887"
            ],
            [
             0.1111111111111111,
             "#46039f"
            ],
            [
             0.2222222222222222,
             "#7201a8"
            ],
            [
             0.3333333333333333,
             "#9c179e"
            ],
            [
             0.4444444444444444,
             "#bd3786"
            ],
            [
             0.5555555555555556,
             "#d8576b"
            ],
            [
             0.6666666666666666,
             "#ed7953"
            ],
            [
             0.7777777777777778,
             "#fb9f3a"
            ],
            [
             0.8888888888888888,
             "#fdca26"
            ],
            [
             1,
             "#f0f921"
            ]
           ]
          },
          "colorway": [
           "#636efa",
           "#EF553B",
           "#00cc96",
           "#ab63fa",
           "#FFA15A",
           "#19d3f3",
           "#FF6692",
           "#B6E880",
           "#FF97FF",
           "#FECB52"
          ],
          "font": {
           "color": "#2a3f5f"
          },
          "geo": {
           "bgcolor": "white",
           "lakecolor": "white",
           "landcolor": "#E5ECF6",
           "showlakes": true,
           "showland": true,
           "subunitcolor": "white"
          },
          "hoverlabel": {
           "align": "left"
          },
          "hovermode": "closest",
          "mapbox": {
           "style": "light"
          },
          "paper_bgcolor": "white",
          "plot_bgcolor": "#E5ECF6",
          "polar": {
           "angularaxis": {
            "gridcolor": "white",
            "linecolor": "white",
            "ticks": ""
           },
           "bgcolor": "#E5ECF6",
           "radialaxis": {
            "gridcolor": "white",
            "linecolor": "white",
            "ticks": ""
           }
          },
          "scene": {
           "xaxis": {
            "backgroundcolor": "#E5ECF6",
            "gridcolor": "white",
            "gridwidth": 2,
            "linecolor": "white",
            "showbackground": true,
            "ticks": "",
            "zerolinecolor": "white"
           },
           "yaxis": {
            "backgroundcolor": "#E5ECF6",
            "gridcolor": "white",
            "gridwidth": 2,
            "linecolor": "white",
            "showbackground": true,
            "ticks": "",
            "zerolinecolor": "white"
           },
           "zaxis": {
            "backgroundcolor": "#E5ECF6",
            "gridcolor": "white",
            "gridwidth": 2,
            "linecolor": "white",
            "showbackground": true,
            "ticks": "",
            "zerolinecolor": "white"
           }
          },
          "shapedefaults": {
           "line": {
            "color": "#2a3f5f"
           }
          },
          "ternary": {
           "aaxis": {
            "gridcolor": "white",
            "linecolor": "white",
            "ticks": ""
           },
           "baxis": {
            "gridcolor": "white",
            "linecolor": "white",
            "ticks": ""
           },
           "bgcolor": "#E5ECF6",
           "caxis": {
            "gridcolor": "white",
            "linecolor": "white",
            "ticks": ""
           }
          },
          "title": {
           "x": 0.05
          },
          "xaxis": {
           "automargin": true,
           "gridcolor": "white",
           "linecolor": "white",
           "ticks": "",
           "title": {
            "standoff": 15
           },
           "zerolinecolor": "white",
           "zerolinewidth": 2
          },
          "yaxis": {
           "automargin": true,
           "gridcolor": "white",
           "linecolor": "white",
           "ticks": "",
           "title": {
            "standoff": 15
           },
           "zerolinecolor": "white",
           "zerolinewidth": 2
          }
         }
        },
        "title": {
         "font": {
          "size": 21
         },
         "text": "위반 법률 비율 (2022년)"
        }
       }
      }
     },
     "metadata": {},
     "output_type": "display_data"
    }
   ],
   "source": [
    "import plotly.express as px\n",
    "\n",
    "source_counts1 = filtered_df['출처'].value_counts().reset_index()\n",
    "source_counts1.columns = ['출처', '위반 정보 수']\n",
    "\n",
    "top_5_sources = source_counts1.head(5)\n",
    "\n",
    "fig = px.pie(top_5_sources, values='위반 정보 수', names='출처', title='위반 법률 비율 (2022년)')\n",
    "\n",
    "fig.update_layout(\n",
    "    title_font_size=21, \n",
    "    legend_font_size=17,  \n",
    ")\n",
    "\n",
    "top_5_sources['percentage'] = (top_5_sources['위반 정보 수'] / top_5_sources['위반 정보 수'].sum()) * 100\n",
    "\n",
    "fig.update_traces(\n",
    "    textinfo='label+text',\n",
    "    text=top_5_sources['percentage'].map(lambda x: f'{x:.2f}%'),\n",
    "    textfont_size=16 \n",
    ")\n",
    "\n",
    "fig.show()"
   ]
  },
  {
   "cell_type": "code",
   "execution_count": 12,
   "metadata": {},
   "outputs": [
    {
     "name": "stderr",
     "output_type": "stream",
     "text": [
      "C:\\Users\\leegabin\\AppData\\Local\\Temp\\ipykernel_2792\\733980952.py:15: SettingWithCopyWarning:\n",
      "\n",
      "\n",
      "A value is trying to be set on a copy of a slice from a DataFrame.\n",
      "Try using .loc[row_indexer,col_indexer] = value instead\n",
      "\n",
      "See the caveats in the documentation: https://pandas.pydata.org/pandas-docs/stable/user_guide/indexing.html#returning-a-view-versus-a-copy\n",
      "\n"
     ]
    },
    {
     "data": {
      "application/vnd.plotly.v1+json": {
       "config": {
        "plotlyServerURL": "https://plot.ly"
       },
       "data": [
        {
         "domain": {
          "x": [
           0,
           1
          ],
          "y": [
           0,
           1
          ]
         },
         "hovertemplate": "출처=%{label}<br>위반 정보 수=%{value}<extra></extra>",
         "labels": [
          "생활화학제품 및 살생물제의 안전관리에 관한 법률",
          "자진신고",
          "화학물질의 등록 및 평가 등에 관한 법률",
          "종전 화학물질등록 및 평가에 관한 법률"
         ],
         "legendgroup": "",
         "name": "",
         "showlegend": true,
         "text": [
          "97.68%",
          "2.13%",
          "0.13%",
          "0.06%"
         ],
         "textfont": {
          "size": 16
         },
         "textinfo": "text",
         "type": "pie",
         "values": [
          1515,
          33,
          2,
          1
         ]
        }
       ],
       "layout": {
        "legend": {
         "font": {
          "size": 17
         },
         "tracegroupgap": 0
        },
        "template": {
         "data": {
          "bar": [
           {
            "error_x": {
             "color": "#2a3f5f"
            },
            "error_y": {
             "color": "#2a3f5f"
            },
            "marker": {
             "line": {
              "color": "#E5ECF6",
              "width": 0.5
             },
             "pattern": {
              "fillmode": "overlay",
              "size": 10,
              "solidity": 0.2
             }
            },
            "type": "bar"
           }
          ],
          "barpolar": [
           {
            "marker": {
             "line": {
              "color": "#E5ECF6",
              "width": 0.5
             },
             "pattern": {
              "fillmode": "overlay",
              "size": 10,
              "solidity": 0.2
             }
            },
            "type": "barpolar"
           }
          ],
          "carpet": [
           {
            "aaxis": {
             "endlinecolor": "#2a3f5f",
             "gridcolor": "white",
             "linecolor": "white",
             "minorgridcolor": "white",
             "startlinecolor": "#2a3f5f"
            },
            "baxis": {
             "endlinecolor": "#2a3f5f",
             "gridcolor": "white",
             "linecolor": "white",
             "minorgridcolor": "white",
             "startlinecolor": "#2a3f5f"
            },
            "type": "carpet"
           }
          ],
          "choropleth": [
           {
            "colorbar": {
             "outlinewidth": 0,
             "ticks": ""
            },
            "type": "choropleth"
           }
          ],
          "contour": [
           {
            "colorbar": {
             "outlinewidth": 0,
             "ticks": ""
            },
            "colorscale": [
             [
              0,
              "#0d0887"
             ],
             [
              0.1111111111111111,
              "#46039f"
             ],
             [
              0.2222222222222222,
              "#7201a8"
             ],
             [
              0.3333333333333333,
              "#9c179e"
             ],
             [
              0.4444444444444444,
              "#bd3786"
             ],
             [
              0.5555555555555556,
              "#d8576b"
             ],
             [
              0.6666666666666666,
              "#ed7953"
             ],
             [
              0.7777777777777778,
              "#fb9f3a"
             ],
             [
              0.8888888888888888,
              "#fdca26"
             ],
             [
              1,
              "#f0f921"
             ]
            ],
            "type": "contour"
           }
          ],
          "contourcarpet": [
           {
            "colorbar": {
             "outlinewidth": 0,
             "ticks": ""
            },
            "type": "contourcarpet"
           }
          ],
          "heatmap": [
           {
            "colorbar": {
             "outlinewidth": 0,
             "ticks": ""
            },
            "colorscale": [
             [
              0,
              "#0d0887"
             ],
             [
              0.1111111111111111,
              "#46039f"
             ],
             [
              0.2222222222222222,
              "#7201a8"
             ],
             [
              0.3333333333333333,
              "#9c179e"
             ],
             [
              0.4444444444444444,
              "#bd3786"
             ],
             [
              0.5555555555555556,
              "#d8576b"
             ],
             [
              0.6666666666666666,
              "#ed7953"
             ],
             [
              0.7777777777777778,
              "#fb9f3a"
             ],
             [
              0.8888888888888888,
              "#fdca26"
             ],
             [
              1,
              "#f0f921"
             ]
            ],
            "type": "heatmap"
           }
          ],
          "heatmapgl": [
           {
            "colorbar": {
             "outlinewidth": 0,
             "ticks": ""
            },
            "colorscale": [
             [
              0,
              "#0d0887"
             ],
             [
              0.1111111111111111,
              "#46039f"
             ],
             [
              0.2222222222222222,
              "#7201a8"
             ],
             [
              0.3333333333333333,
              "#9c179e"
             ],
             [
              0.4444444444444444,
              "#bd3786"
             ],
             [
              0.5555555555555556,
              "#d8576b"
             ],
             [
              0.6666666666666666,
              "#ed7953"
             ],
             [
              0.7777777777777778,
              "#fb9f3a"
             ],
             [
              0.8888888888888888,
              "#fdca26"
             ],
             [
              1,
              "#f0f921"
             ]
            ],
            "type": "heatmapgl"
           }
          ],
          "histogram": [
           {
            "marker": {
             "pattern": {
              "fillmode": "overlay",
              "size": 10,
              "solidity": 0.2
             }
            },
            "type": "histogram"
           }
          ],
          "histogram2d": [
           {
            "colorbar": {
             "outlinewidth": 0,
             "ticks": ""
            },
            "colorscale": [
             [
              0,
              "#0d0887"
             ],
             [
              0.1111111111111111,
              "#46039f"
             ],
             [
              0.2222222222222222,
              "#7201a8"
             ],
             [
              0.3333333333333333,
              "#9c179e"
             ],
             [
              0.4444444444444444,
              "#bd3786"
             ],
             [
              0.5555555555555556,
              "#d8576b"
             ],
             [
              0.6666666666666666,
              "#ed7953"
             ],
             [
              0.7777777777777778,
              "#fb9f3a"
             ],
             [
              0.8888888888888888,
              "#fdca26"
             ],
             [
              1,
              "#f0f921"
             ]
            ],
            "type": "histogram2d"
           }
          ],
          "histogram2dcontour": [
           {
            "colorbar": {
             "outlinewidth": 0,
             "ticks": ""
            },
            "colorscale": [
             [
              0,
              "#0d0887"
             ],
             [
              0.1111111111111111,
              "#46039f"
             ],
             [
              0.2222222222222222,
              "#7201a8"
             ],
             [
              0.3333333333333333,
              "#9c179e"
             ],
             [
              0.4444444444444444,
              "#bd3786"
             ],
             [
              0.5555555555555556,
              "#d8576b"
             ],
             [
              0.6666666666666666,
              "#ed7953"
             ],
             [
              0.7777777777777778,
              "#fb9f3a"
             ],
             [
              0.8888888888888888,
              "#fdca26"
             ],
             [
              1,
              "#f0f921"
             ]
            ],
            "type": "histogram2dcontour"
           }
          ],
          "mesh3d": [
           {
            "colorbar": {
             "outlinewidth": 0,
             "ticks": ""
            },
            "type": "mesh3d"
           }
          ],
          "parcoords": [
           {
            "line": {
             "colorbar": {
              "outlinewidth": 0,
              "ticks": ""
             }
            },
            "type": "parcoords"
           }
          ],
          "pie": [
           {
            "automargin": true,
            "type": "pie"
           }
          ],
          "scatter": [
           {
            "fillpattern": {
             "fillmode": "overlay",
             "size": 10,
             "solidity": 0.2
            },
            "type": "scatter"
           }
          ],
          "scatter3d": [
           {
            "line": {
             "colorbar": {
              "outlinewidth": 0,
              "ticks": ""
             }
            },
            "marker": {
             "colorbar": {
              "outlinewidth": 0,
              "ticks": ""
             }
            },
            "type": "scatter3d"
           }
          ],
          "scattercarpet": [
           {
            "marker": {
             "colorbar": {
              "outlinewidth": 0,
              "ticks": ""
             }
            },
            "type": "scattercarpet"
           }
          ],
          "scattergeo": [
           {
            "marker": {
             "colorbar": {
              "outlinewidth": 0,
              "ticks": ""
             }
            },
            "type": "scattergeo"
           }
          ],
          "scattergl": [
           {
            "marker": {
             "colorbar": {
              "outlinewidth": 0,
              "ticks": ""
             }
            },
            "type": "scattergl"
           }
          ],
          "scattermapbox": [
           {
            "marker": {
             "colorbar": {
              "outlinewidth": 0,
              "ticks": ""
             }
            },
            "type": "scattermapbox"
           }
          ],
          "scatterpolar": [
           {
            "marker": {
             "colorbar": {
              "outlinewidth": 0,
              "ticks": ""
             }
            },
            "type": "scatterpolar"
           }
          ],
          "scatterpolargl": [
           {
            "marker": {
             "colorbar": {
              "outlinewidth": 0,
              "ticks": ""
             }
            },
            "type": "scatterpolargl"
           }
          ],
          "scatterternary": [
           {
            "marker": {
             "colorbar": {
              "outlinewidth": 0,
              "ticks": ""
             }
            },
            "type": "scatterternary"
           }
          ],
          "surface": [
           {
            "colorbar": {
             "outlinewidth": 0,
             "ticks": ""
            },
            "colorscale": [
             [
              0,
              "#0d0887"
             ],
             [
              0.1111111111111111,
              "#46039f"
             ],
             [
              0.2222222222222222,
              "#7201a8"
             ],
             [
              0.3333333333333333,
              "#9c179e"
             ],
             [
              0.4444444444444444,
              "#bd3786"
             ],
             [
              0.5555555555555556,
              "#d8576b"
             ],
             [
              0.6666666666666666,
              "#ed7953"
             ],
             [
              0.7777777777777778,
              "#fb9f3a"
             ],
             [
              0.8888888888888888,
              "#fdca26"
             ],
             [
              1,
              "#f0f921"
             ]
            ],
            "type": "surface"
           }
          ],
          "table": [
           {
            "cells": {
             "fill": {
              "color": "#EBF0F8"
             },
             "line": {
              "color": "white"
             }
            },
            "header": {
             "fill": {
              "color": "#C8D4E3"
             },
             "line": {
              "color": "white"
             }
            },
            "type": "table"
           }
          ]
         },
         "layout": {
          "annotationdefaults": {
           "arrowcolor": "#2a3f5f",
           "arrowhead": 0,
           "arrowwidth": 1
          },
          "autotypenumbers": "strict",
          "coloraxis": {
           "colorbar": {
            "outlinewidth": 0,
            "ticks": ""
           }
          },
          "colorscale": {
           "diverging": [
            [
             0,
             "#8e0152"
            ],
            [
             0.1,
             "#c51b7d"
            ],
            [
             0.2,
             "#de77ae"
            ],
            [
             0.3,
             "#f1b6da"
            ],
            [
             0.4,
             "#fde0ef"
            ],
            [
             0.5,
             "#f7f7f7"
            ],
            [
             0.6,
             "#e6f5d0"
            ],
            [
             0.7,
             "#b8e186"
            ],
            [
             0.8,
             "#7fbc41"
            ],
            [
             0.9,
             "#4d9221"
            ],
            [
             1,
             "#276419"
            ]
           ],
           "sequential": [
            [
             0,
             "#0d0887"
            ],
            [
             0.1111111111111111,
             "#46039f"
            ],
            [
             0.2222222222222222,
             "#7201a8"
            ],
            [
             0.3333333333333333,
             "#9c179e"
            ],
            [
             0.4444444444444444,
             "#bd3786"
            ],
            [
             0.5555555555555556,
             "#d8576b"
            ],
            [
             0.6666666666666666,
             "#ed7953"
            ],
            [
             0.7777777777777778,
             "#fb9f3a"
            ],
            [
             0.8888888888888888,
             "#fdca26"
            ],
            [
             1,
             "#f0f921"
            ]
           ],
           "sequentialminus": [
            [
             0,
             "#0d0887"
            ],
            [
             0.1111111111111111,
             "#46039f"
            ],
            [
             0.2222222222222222,
             "#7201a8"
            ],
            [
             0.3333333333333333,
             "#9c179e"
            ],
            [
             0.4444444444444444,
             "#bd3786"
            ],
            [
             0.5555555555555556,
             "#d8576b"
            ],
            [
             0.6666666666666666,
             "#ed7953"
            ],
            [
             0.7777777777777778,
             "#fb9f3a"
            ],
            [
             0.8888888888888888,
             "#fdca26"
            ],
            [
             1,
             "#f0f921"
            ]
           ]
          },
          "colorway": [
           "#636efa",
           "#EF553B",
           "#00cc96",
           "#ab63fa",
           "#FFA15A",
           "#19d3f3",
           "#FF6692",
           "#B6E880",
           "#FF97FF",
           "#FECB52"
          ],
          "font": {
           "color": "#2a3f5f"
          },
          "geo": {
           "bgcolor": "white",
           "lakecolor": "white",
           "landcolor": "#E5ECF6",
           "showlakes": true,
           "showland": true,
           "subunitcolor": "white"
          },
          "hoverlabel": {
           "align": "left"
          },
          "hovermode": "closest",
          "mapbox": {
           "style": "light"
          },
          "paper_bgcolor": "white",
          "plot_bgcolor": "#E5ECF6",
          "polar": {
           "angularaxis": {
            "gridcolor": "white",
            "linecolor": "white",
            "ticks": ""
           },
           "bgcolor": "#E5ECF6",
           "radialaxis": {
            "gridcolor": "white",
            "linecolor": "white",
            "ticks": ""
           }
          },
          "scene": {
           "xaxis": {
            "backgroundcolor": "#E5ECF6",
            "gridcolor": "white",
            "gridwidth": 2,
            "linecolor": "white",
            "showbackground": true,
            "ticks": "",
            "zerolinecolor": "white"
           },
           "yaxis": {
            "backgroundcolor": "#E5ECF6",
            "gridcolor": "white",
            "gridwidth": 2,
            "linecolor": "white",
            "showbackground": true,
            "ticks": "",
            "zerolinecolor": "white"
           },
           "zaxis": {
            "backgroundcolor": "#E5ECF6",
            "gridcolor": "white",
            "gridwidth": 2,
            "linecolor": "white",
            "showbackground": true,
            "ticks": "",
            "zerolinecolor": "white"
           }
          },
          "shapedefaults": {
           "line": {
            "color": "#2a3f5f"
           }
          },
          "ternary": {
           "aaxis": {
            "gridcolor": "white",
            "linecolor": "white",
            "ticks": ""
           },
           "baxis": {
            "gridcolor": "white",
            "linecolor": "white",
            "ticks": ""
           },
           "bgcolor": "#E5ECF6",
           "caxis": {
            "gridcolor": "white",
            "linecolor": "white",
            "ticks": ""
           }
          },
          "title": {
           "x": 0.05
          },
          "xaxis": {
           "automargin": true,
           "gridcolor": "white",
           "linecolor": "white",
           "ticks": "",
           "title": {
            "standoff": 15
           },
           "zerolinecolor": "white",
           "zerolinewidth": 2
          },
          "yaxis": {
           "automargin": true,
           "gridcolor": "white",
           "linecolor": "white",
           "ticks": "",
           "title": {
            "standoff": 15
           },
           "zerolinecolor": "white",
           "zerolinewidth": 2
          }
         }
        },
        "title": {
         "font": {
          "size": 21
         },
         "text": "위반 법률 비율 (2022년)"
        }
       }
      }
     },
     "metadata": {},
     "output_type": "display_data"
    }
   ],
   "source": [
    "import plotly.express as px\n",
    "\n",
    "source_counts1 = filtered_df['출처'].value_counts().reset_index()\n",
    "source_counts1.columns = ['출처', '위반 정보 수']\n",
    "\n",
    "top_5_sources = source_counts1.head(5)\n",
    "\n",
    "fig = px.pie(top_5_sources, values='위반 정보 수', names='출처', title='위반 법률 비율 (2022년)')\n",
    "\n",
    "fig.update_layout(\n",
    "    title_font_size=21, \n",
    "    legend_font_size=17,  \n",
    ")\n",
    "\n",
    "top_5_sources['percentage'] = (top_5_sources['위반 정보 수'] / top_5_sources['위반 정보 수'].sum()) * 100\n",
    "\n",
    "fig.update_traces(\n",
    "    textinfo='text',\n",
    "    text=top_5_sources['percentage'].map(lambda x: f'{x:.2f}%'),\n",
    "    textfont_size=16 \n",
    ")\n",
    "\n",
    "fig.show()"
   ]
  },
  {
   "cell_type": "markdown",
   "metadata": {},
   "source": [
    "## 날짜"
   ]
  },
  {
   "cell_type": "code",
   "execution_count": 65,
   "metadata": {},
   "outputs": [
    {
     "data": {
      "text/plain": [
       "2022-05-10    68\n",
       "2018-03-09    53\n",
       "2019-01-22    52\n",
       "2019-03-28    45\n",
       "2022-08-05    44\n",
       "              ..\n",
       "2021-02-23     1\n",
       "2021-02-04     1\n",
       "2021-01-20     1\n",
       "2021-01-19     1\n",
       "2020-11-25     1\n",
       "Name: 조치일자, Length: 711, dtype: int64"
      ]
     },
     "execution_count": 65,
     "metadata": {},
     "output_type": "execute_result"
    }
   ],
   "source": [
    "import pandas as pd\n",
    "\n",
    "file_path = '환경부_생활화학제품 위반정보_20230630.csv' \n",
    "data = pd.read_csv(file_path, encoding='euc-kr')\n",
    "\n",
    "source_counts = data['조치일자'].value_counts()\n",
    "source_counts"
   ]
  },
  {
   "cell_type": "code",
   "execution_count": 66,
   "metadata": {},
   "outputs": [
    {
     "name": "stdout",
     "output_type": "stream",
     "text": [
      "2023년 각 월별 데이터 수:\n",
      "1    149\n",
      "2    101\n",
      "3     79\n",
      "4     71\n",
      "5     92\n",
      "6     65\n",
      "Name: 조치일자, dtype: int64\n"
     ]
    }
   ],
   "source": [
    "data['조치일자'] = pd.to_datetime(data['조치일자'])\n",
    "\n",
    "data_2023 = data[data['조치일자'].dt.year == 2023]\n",
    "\n",
    "monthly_counts_2023 = data_2023['조치일자'].dt.month.value_counts().sort_index()\n",
    "\n",
    "print(\"2023년 각 월별 데이터 수:\")\n",
    "print(monthly_counts_2023)"
   ]
  },
  {
   "cell_type": "code",
   "execution_count": 67,
   "metadata": {},
   "outputs": [
    {
     "name": "stdout",
     "output_type": "stream",
     "text": [
      "조치일자\n",
      "2016      30\n",
      "2017      80\n",
      "2018     140\n",
      "2019     266\n",
      "2020     486\n",
      "2021     912\n",
      "2022    1551\n",
      "2023     557\n",
      "dtype: int64\n"
     ]
    }
   ],
   "source": [
    "data['조치일자'] = pd.to_datetime(data['조치일자'])\n",
    "\n",
    "violations_by_year = data.groupby(data['조치일자'].dt.year).size()\n",
    "\n",
    "print(violations_by_year)"
   ]
  },
  {
   "cell_type": "code",
   "execution_count": 69,
   "metadata": {},
   "outputs": [
    {
     "data": {
      "text/html": [
       "<div>\n",
       "<style scoped>\n",
       "    .dataframe tbody tr th:only-of-type {\n",
       "        vertical-align: middle;\n",
       "    }\n",
       "\n",
       "    .dataframe tbody tr th {\n",
       "        vertical-align: top;\n",
       "    }\n",
       "\n",
       "    .dataframe thead th {\n",
       "        text-align: right;\n",
       "    }\n",
       "</style>\n",
       "<table border=\"1\" class=\"dataframe\">\n",
       "  <thead>\n",
       "    <tr style=\"text-align: right;\">\n",
       "      <th></th>\n",
       "      <th>제품명</th>\n",
       "      <th>제품군 대분류</th>\n",
       "      <th>제품군 중분류</th>\n",
       "      <th>제품군 소분류</th>\n",
       "      <th>업체명</th>\n",
       "      <th>업체주소</th>\n",
       "      <th>생산지</th>\n",
       "      <th>출처</th>\n",
       "      <th>처분권자</th>\n",
       "      <th>조치일자</th>\n",
       "      <th>조치내용</th>\n",
       "      <th>위반내용</th>\n",
       "      <th>기타</th>\n",
       "    </tr>\n",
       "  </thead>\n",
       "  <tbody>\n",
       "    <tr>\n",
       "      <th>268</th>\n",
       "      <td>의류용 홈드라이 크리닝</td>\n",
       "      <td>세제류</td>\n",
       "      <td>세탁세제</td>\n",
       "      <td>세탁세제</td>\n",
       "      <td>[판매] 주식회사 쭈니마켓</td>\n",
       "      <td>경기도 파주시 경의로1114, 4층 405호 (야당동)</td>\n",
       "      <td>대한민국</td>\n",
       "      <td>생활화학제품 및 살생물제의 안전관리에 관한 법률</td>\n",
       "      <td>한강유역환경청</td>\n",
       "      <td>2022-06-24</td>\n",
       "      <td>판매금지, 회수명령</td>\n",
       "      <td>확인 미실시, 표시사항 미표기 제품 판매</td>\n",
       "      <td>NaN</td>\n",
       "    </tr>\n",
       "    <tr>\n",
       "      <th>269</th>\n",
       "      <td>작은새(잉글리쉬 페어&amp;후리지아 향)</td>\n",
       "      <td>기타류</td>\n",
       "      <td>초</td>\n",
       "      <td>초</td>\n",
       "      <td>[제조/판매] 모야씨작업실</td>\n",
       "      <td>경기도 김포시 김포한강9로12번길 50, 404동 304호 (구래동, 김포한강신도시...</td>\n",
       "      <td>NaN</td>\n",
       "      <td>생활화학제품 및 살생물제의 안전관리에 관한 법률</td>\n",
       "      <td>한강유역환경청</td>\n",
       "      <td>2022-07-18</td>\n",
       "      <td>제조금지,판매금지,회수명령</td>\n",
       "      <td>신고 미실시 및 표시사항 미표기</td>\n",
       "      <td>안전기준 적합확인 신고(제CB21-26-0538호) 완료(2021.6.29.)한 제...</td>\n",
       "    </tr>\n",
       "    <tr>\n",
       "      <th>270</th>\n",
       "      <td>프리저브드 왁스타블렛(플라워 바이 겐조 향)</td>\n",
       "      <td>방향제류</td>\n",
       "      <td>방향제</td>\n",
       "      <td>방향제</td>\n",
       "      <td>[제조/판매] 모야씨작업실</td>\n",
       "      <td>경기도 김포시 김포한강9로12번길 50, 404동 304호 (구래동, 김포한강신도시...</td>\n",
       "      <td>NaN</td>\n",
       "      <td>생활화학제품 및 살생물제의 안전관리에 관한 법률</td>\n",
       "      <td>한강유역환경청</td>\n",
       "      <td>2022-07-18</td>\n",
       "      <td>제조금지,판매금지,회수명령</td>\n",
       "      <td>확인 미실시 및 표시사항 미표기</td>\n",
       "      <td>NaN</td>\n",
       "    </tr>\n",
       "    <tr>\n",
       "      <th>271</th>\n",
       "      <td>일라토스 디퓨저(블랙체리 향)</td>\n",
       "      <td>방향제류</td>\n",
       "      <td>방향제</td>\n",
       "      <td>방향제</td>\n",
       "      <td>[제조/판매] (주)일라토스(031-8089-7703)</td>\n",
       "      <td>경기도 김포시 월곶면 군하로26, 나동</td>\n",
       "      <td>대한민국</td>\n",
       "      <td>생활화학제품 및 살생물제의 안전관리에 관한 법률</td>\n",
       "      <td>한강유역환경청</td>\n",
       "      <td>2022-07-21</td>\n",
       "      <td>제조금지,판매금지,회수명령</td>\n",
       "      <td>확인 미실시 및 표시사항 미표기</td>\n",
       "      <td>파생신고(제FB21-12-0674호) 완료(2021.4.26.)한 제품(일라토스 디...</td>\n",
       "    </tr>\n",
       "    <tr>\n",
       "      <th>272</th>\n",
       "      <td>메가네 후키후키 클리너</td>\n",
       "      <td>코팅/접착제류</td>\n",
       "      <td>특수목적 코팅제</td>\n",
       "      <td>특수목적코팅제</td>\n",
       "      <td>[판매] 디에스인터네셔널 주식회사(070-7582-1244)</td>\n",
       "      <td>서울특별시 마포구 큰우물로 76 4층 403호</td>\n",
       "      <td>일본</td>\n",
       "      <td>생활화학제품 및 살생물제의 안전관리에 관한 법률</td>\n",
       "      <td>한강유역환경청</td>\n",
       "      <td>2022-07-27</td>\n",
       "      <td>판매금지, 회수명령</td>\n",
       "      <td>확인 미실시 및 표시사항 미표기</td>\n",
       "      <td>NaN</td>\n",
       "    </tr>\n",
       "  </tbody>\n",
       "</table>\n",
       "</div>"
      ],
      "text/plain": [
       "                          제품명  제품군 대분류   제품군 중분류  제품군 소분류  \\\n",
       "268              의류용 홈드라이 크리닝      세제류      세탁세제     세탁세제   \n",
       "269       작은새(잉글리쉬 페어&후리지아 향)      기타류         초        초   \n",
       "270  프리저브드 왁스타블렛(플라워 바이 겐조 향)     방향제류       방향제      방향제   \n",
       "271          일라토스 디퓨저(블랙체리 향)     방향제류       방향제      방향제   \n",
       "272              메가네 후키후키 클리너  코팅/접착제류  특수목적 코팅제  특수목적코팅제   \n",
       "\n",
       "                                   업체명  \\\n",
       "268                     [판매] 주식회사 쭈니마켓   \n",
       "269                     [제조/판매] 모야씨작업실   \n",
       "270                     [제조/판매] 모야씨작업실   \n",
       "271     [제조/판매] (주)일라토스(031-8089-7703)   \n",
       "272  [판매] 디에스인터네셔널 주식회사(070-7582-1244)   \n",
       "\n",
       "                                                  업체주소   생산지  \\\n",
       "268                     경기도 파주시 경의로1114, 4층 405호 (야당동)  대한민국   \n",
       "269  경기도 김포시 김포한강9로12번길 50, 404동 304호 (구래동, 김포한강신도시...   NaN   \n",
       "270  경기도 김포시 김포한강9로12번길 50, 404동 304호 (구래동, 김포한강신도시...   NaN   \n",
       "271                              경기도 김포시 월곶면 군하로26, 나동  대한민국   \n",
       "272                          서울특별시 마포구 큰우물로 76 4층 403호    일본   \n",
       "\n",
       "                             출처     처분권자       조치일자            조치내용  \\\n",
       "268  생활화학제품 및 살생물제의 안전관리에 관한 법률  한강유역환경청 2022-06-24      판매금지, 회수명령   \n",
       "269  생활화학제품 및 살생물제의 안전관리에 관한 법률  한강유역환경청 2022-07-18  제조금지,판매금지,회수명령   \n",
       "270  생활화학제품 및 살생물제의 안전관리에 관한 법률  한강유역환경청 2022-07-18  제조금지,판매금지,회수명령   \n",
       "271  생활화학제품 및 살생물제의 안전관리에 관한 법률  한강유역환경청 2022-07-21  제조금지,판매금지,회수명령   \n",
       "272  생활화학제품 및 살생물제의 안전관리에 관한 법률  한강유역환경청 2022-07-27      판매금지, 회수명령   \n",
       "\n",
       "                       위반내용                                                 기타  \n",
       "268  확인 미실시, 표시사항 미표기 제품 판매                                                NaN  \n",
       "269       신고 미실시 및 표시사항 미표기  안전기준 적합확인 신고(제CB21-26-0538호) 완료(2021.6.29.)한 제...  \n",
       "270       확인 미실시 및 표시사항 미표기                                                NaN  \n",
       "271       확인 미실시 및 표시사항 미표기  파생신고(제FB21-12-0674호) 완료(2021.4.26.)한 제품(일라토스 디...  \n",
       "272       확인 미실시 및 표시사항 미표기                                                NaN  "
      ]
     },
     "execution_count": 69,
     "metadata": {},
     "output_type": "execute_result"
    }
   ],
   "source": [
    "data['조치일자'] = pd.to_datetime(data['조치일자'])\n",
    "\n",
    "data = data[data['조치일자'].dt.year != 2023]\n",
    "data.head(5)"
   ]
  },
  {
   "cell_type": "code",
   "execution_count": 70,
   "metadata": {},
   "outputs": [
    {
     "name": "stdout",
     "output_type": "stream",
     "text": [
      "조치일자\n",
      "2016      30\n",
      "2017      80\n",
      "2018     140\n",
      "2019     266\n",
      "2020     486\n",
      "2021     912\n",
      "2022    1551\n",
      "dtype: int64\n"
     ]
    }
   ],
   "source": [
    "data['조치일자'] = pd.to_datetime(data['조치일자'])\n",
    "\n",
    "violations_by_year = data.groupby(data['조치일자'].dt.year).size()\n",
    "\n",
    "print(violations_by_year)"
   ]
  },
  {
   "cell_type": "code",
   "execution_count": 71,
   "metadata": {},
   "outputs": [
    {
     "data": {
      "application/vnd.plotly.v1+json": {
       "config": {
        "plotlyServerURL": "https://plot.ly"
       },
       "data": [
        {
         "hovertemplate": "연도=%{x}<br>위반 정보 수=%{y}<extra></extra>",
         "legendgroup": "",
         "marker": {
          "color": "#636efa",
          "size": 17,
          "symbol": "circle"
         },
         "mode": "markers",
         "name": "",
         "orientation": "v",
         "showlegend": false,
         "type": "scatter",
         "x": [
          2016,
          2017,
          2018,
          2019,
          2020,
          2021,
          2022
         ],
         "xaxis": "x",
         "y": [
          30,
          80,
          140,
          266,
          486,
          912,
          1551
         ],
         "yaxis": "y"
        },
        {
         "hovertemplate": "연도=%{x}<br>위반건수=%{y}<extra></extra>",
         "legendgroup": "",
         "line": {
          "color": "#636efa",
          "dash": "solid"
         },
         "marker": {
          "size": 17,
          "symbol": "circle"
         },
         "mode": "lines",
         "name": "",
         "orientation": "v",
         "showlegend": false,
         "type": "scatter",
         "x": [
          2016,
          2017,
          2018,
          2019,
          2020,
          2021,
          2022
         ],
         "xaxis": "x",
         "y": [
          30,
          80,
          140,
          266,
          486,
          912,
          1551
         ],
         "yaxis": "y"
        }
       ],
       "layout": {
        "legend": {
         "tracegroupgap": 0
        },
        "template": {
         "data": {
          "bar": [
           {
            "error_x": {
             "color": "#2a3f5f"
            },
            "error_y": {
             "color": "#2a3f5f"
            },
            "marker": {
             "line": {
              "color": "#E5ECF6",
              "width": 0.5
             },
             "pattern": {
              "fillmode": "overlay",
              "size": 10,
              "solidity": 0.2
             }
            },
            "type": "bar"
           }
          ],
          "barpolar": [
           {
            "marker": {
             "line": {
              "color": "#E5ECF6",
              "width": 0.5
             },
             "pattern": {
              "fillmode": "overlay",
              "size": 10,
              "solidity": 0.2
             }
            },
            "type": "barpolar"
           }
          ],
          "carpet": [
           {
            "aaxis": {
             "endlinecolor": "#2a3f5f",
             "gridcolor": "white",
             "linecolor": "white",
             "minorgridcolor": "white",
             "startlinecolor": "#2a3f5f"
            },
            "baxis": {
             "endlinecolor": "#2a3f5f",
             "gridcolor": "white",
             "linecolor": "white",
             "minorgridcolor": "white",
             "startlinecolor": "#2a3f5f"
            },
            "type": "carpet"
           }
          ],
          "choropleth": [
           {
            "colorbar": {
             "outlinewidth": 0,
             "ticks": ""
            },
            "type": "choropleth"
           }
          ],
          "contour": [
           {
            "colorbar": {
             "outlinewidth": 0,
             "ticks": ""
            },
            "colorscale": [
             [
              0,
              "#0d0887"
             ],
             [
              0.1111111111111111,
              "#46039f"
             ],
             [
              0.2222222222222222,
              "#7201a8"
             ],
             [
              0.3333333333333333,
              "#9c179e"
             ],
             [
              0.4444444444444444,
              "#bd3786"
             ],
             [
              0.5555555555555556,
              "#d8576b"
             ],
             [
              0.6666666666666666,
              "#ed7953"
             ],
             [
              0.7777777777777778,
              "#fb9f3a"
             ],
             [
              0.8888888888888888,
              "#fdca26"
             ],
             [
              1,
              "#f0f921"
             ]
            ],
            "type": "contour"
           }
          ],
          "contourcarpet": [
           {
            "colorbar": {
             "outlinewidth": 0,
             "ticks": ""
            },
            "type": "contourcarpet"
           }
          ],
          "heatmap": [
           {
            "colorbar": {
             "outlinewidth": 0,
             "ticks": ""
            },
            "colorscale": [
             [
              0,
              "#0d0887"
             ],
             [
              0.1111111111111111,
              "#46039f"
             ],
             [
              0.2222222222222222,
              "#7201a8"
             ],
             [
              0.3333333333333333,
              "#9c179e"
             ],
             [
              0.4444444444444444,
              "#bd3786"
             ],
             [
              0.5555555555555556,
              "#d8576b"
             ],
             [
              0.6666666666666666,
              "#ed7953"
             ],
             [
              0.7777777777777778,
              "#fb9f3a"
             ],
             [
              0.8888888888888888,
              "#fdca26"
             ],
             [
              1,
              "#f0f921"
             ]
            ],
            "type": "heatmap"
           }
          ],
          "heatmapgl": [
           {
            "colorbar": {
             "outlinewidth": 0,
             "ticks": ""
            },
            "colorscale": [
             [
              0,
              "#0d0887"
             ],
             [
              0.1111111111111111,
              "#46039f"
             ],
             [
              0.2222222222222222,
              "#7201a8"
             ],
             [
              0.3333333333333333,
              "#9c179e"
             ],
             [
              0.4444444444444444,
              "#bd3786"
             ],
             [
              0.5555555555555556,
              "#d8576b"
             ],
             [
              0.6666666666666666,
              "#ed7953"
             ],
             [
              0.7777777777777778,
              "#fb9f3a"
             ],
             [
              0.8888888888888888,
              "#fdca26"
             ],
             [
              1,
              "#f0f921"
             ]
            ],
            "type": "heatmapgl"
           }
          ],
          "histogram": [
           {
            "marker": {
             "pattern": {
              "fillmode": "overlay",
              "size": 10,
              "solidity": 0.2
             }
            },
            "type": "histogram"
           }
          ],
          "histogram2d": [
           {
            "colorbar": {
             "outlinewidth": 0,
             "ticks": ""
            },
            "colorscale": [
             [
              0,
              "#0d0887"
             ],
             [
              0.1111111111111111,
              "#46039f"
             ],
             [
              0.2222222222222222,
              "#7201a8"
             ],
             [
              0.3333333333333333,
              "#9c179e"
             ],
             [
              0.4444444444444444,
              "#bd3786"
             ],
             [
              0.5555555555555556,
              "#d8576b"
             ],
             [
              0.6666666666666666,
              "#ed7953"
             ],
             [
              0.7777777777777778,
              "#fb9f3a"
             ],
             [
              0.8888888888888888,
              "#fdca26"
             ],
             [
              1,
              "#f0f921"
             ]
            ],
            "type": "histogram2d"
           }
          ],
          "histogram2dcontour": [
           {
            "colorbar": {
             "outlinewidth": 0,
             "ticks": ""
            },
            "colorscale": [
             [
              0,
              "#0d0887"
             ],
             [
              0.1111111111111111,
              "#46039f"
             ],
             [
              0.2222222222222222,
              "#7201a8"
             ],
             [
              0.3333333333333333,
              "#9c179e"
             ],
             [
              0.4444444444444444,
              "#bd3786"
             ],
             [
              0.5555555555555556,
              "#d8576b"
             ],
             [
              0.6666666666666666,
              "#ed7953"
             ],
             [
              0.7777777777777778,
              "#fb9f3a"
             ],
             [
              0.8888888888888888,
              "#fdca26"
             ],
             [
              1,
              "#f0f921"
             ]
            ],
            "type": "histogram2dcontour"
           }
          ],
          "mesh3d": [
           {
            "colorbar": {
             "outlinewidth": 0,
             "ticks": ""
            },
            "type": "mesh3d"
           }
          ],
          "parcoords": [
           {
            "line": {
             "colorbar": {
              "outlinewidth": 0,
              "ticks": ""
             }
            },
            "type": "parcoords"
           }
          ],
          "pie": [
           {
            "automargin": true,
            "type": "pie"
           }
          ],
          "scatter": [
           {
            "fillpattern": {
             "fillmode": "overlay",
             "size": 10,
             "solidity": 0.2
            },
            "type": "scatter"
           }
          ],
          "scatter3d": [
           {
            "line": {
             "colorbar": {
              "outlinewidth": 0,
              "ticks": ""
             }
            },
            "marker": {
             "colorbar": {
              "outlinewidth": 0,
              "ticks": ""
             }
            },
            "type": "scatter3d"
           }
          ],
          "scattercarpet": [
           {
            "marker": {
             "colorbar": {
              "outlinewidth": 0,
              "ticks": ""
             }
            },
            "type": "scattercarpet"
           }
          ],
          "scattergeo": [
           {
            "marker": {
             "colorbar": {
              "outlinewidth": 0,
              "ticks": ""
             }
            },
            "type": "scattergeo"
           }
          ],
          "scattergl": [
           {
            "marker": {
             "colorbar": {
              "outlinewidth": 0,
              "ticks": ""
             }
            },
            "type": "scattergl"
           }
          ],
          "scattermapbox": [
           {
            "marker": {
             "colorbar": {
              "outlinewidth": 0,
              "ticks": ""
             }
            },
            "type": "scattermapbox"
           }
          ],
          "scatterpolar": [
           {
            "marker": {
             "colorbar": {
              "outlinewidth": 0,
              "ticks": ""
             }
            },
            "type": "scatterpolar"
           }
          ],
          "scatterpolargl": [
           {
            "marker": {
             "colorbar": {
              "outlinewidth": 0,
              "ticks": ""
             }
            },
            "type": "scatterpolargl"
           }
          ],
          "scatterternary": [
           {
            "marker": {
             "colorbar": {
              "outlinewidth": 0,
              "ticks": ""
             }
            },
            "type": "scatterternary"
           }
          ],
          "surface": [
           {
            "colorbar": {
             "outlinewidth": 0,
             "ticks": ""
            },
            "colorscale": [
             [
              0,
              "#0d0887"
             ],
             [
              0.1111111111111111,
              "#46039f"
             ],
             [
              0.2222222222222222,
              "#7201a8"
             ],
             [
              0.3333333333333333,
              "#9c179e"
             ],
             [
              0.4444444444444444,
              "#bd3786"
             ],
             [
              0.5555555555555556,
              "#d8576b"
             ],
             [
              0.6666666666666666,
              "#ed7953"
             ],
             [
              0.7777777777777778,
              "#fb9f3a"
             ],
             [
              0.8888888888888888,
              "#fdca26"
             ],
             [
              1,
              "#f0f921"
             ]
            ],
            "type": "surface"
           }
          ],
          "table": [
           {
            "cells": {
             "fill": {
              "color": "#EBF0F8"
             },
             "line": {
              "color": "white"
             }
            },
            "header": {
             "fill": {
              "color": "#C8D4E3"
             },
             "line": {
              "color": "white"
             }
            },
            "type": "table"
           }
          ]
         },
         "layout": {
          "annotationdefaults": {
           "arrowcolor": "#2a3f5f",
           "arrowhead": 0,
           "arrowwidth": 1
          },
          "autotypenumbers": "strict",
          "coloraxis": {
           "colorbar": {
            "outlinewidth": 0,
            "ticks": ""
           }
          },
          "colorscale": {
           "diverging": [
            [
             0,
             "#8e0152"
            ],
            [
             0.1,
             "#c51b7d"
            ],
            [
             0.2,
             "#de77ae"
            ],
            [
             0.3,
             "#f1b6da"
            ],
            [
             0.4,
             "#fde0ef"
            ],
            [
             0.5,
             "#f7f7f7"
            ],
            [
             0.6,
             "#e6f5d0"
            ],
            [
             0.7,
             "#b8e186"
            ],
            [
             0.8,
             "#7fbc41"
            ],
            [
             0.9,
             "#4d9221"
            ],
            [
             1,
             "#276419"
            ]
           ],
           "sequential": [
            [
             0,
             "#0d0887"
            ],
            [
             0.1111111111111111,
             "#46039f"
            ],
            [
             0.2222222222222222,
             "#7201a8"
            ],
            [
             0.3333333333333333,
             "#9c179e"
            ],
            [
             0.4444444444444444,
             "#bd3786"
            ],
            [
             0.5555555555555556,
             "#d8576b"
            ],
            [
             0.6666666666666666,
             "#ed7953"
            ],
            [
             0.7777777777777778,
             "#fb9f3a"
            ],
            [
             0.8888888888888888,
             "#fdca26"
            ],
            [
             1,
             "#f0f921"
            ]
           ],
           "sequentialminus": [
            [
             0,
             "#0d0887"
            ],
            [
             0.1111111111111111,
             "#46039f"
            ],
            [
             0.2222222222222222,
             "#7201a8"
            ],
            [
             0.3333333333333333,
             "#9c179e"
            ],
            [
             0.4444444444444444,
             "#bd3786"
            ],
            [
             0.5555555555555556,
             "#d8576b"
            ],
            [
             0.6666666666666666,
             "#ed7953"
            ],
            [
             0.7777777777777778,
             "#fb9f3a"
            ],
            [
             0.8888888888888888,
             "#fdca26"
            ],
            [
             1,
             "#f0f921"
            ]
           ]
          },
          "colorway": [
           "#636efa",
           "#EF553B",
           "#00cc96",
           "#ab63fa",
           "#FFA15A",
           "#19d3f3",
           "#FF6692",
           "#B6E880",
           "#FF97FF",
           "#FECB52"
          ],
          "font": {
           "color": "#2a3f5f"
          },
          "geo": {
           "bgcolor": "white",
           "lakecolor": "white",
           "landcolor": "#E5ECF6",
           "showlakes": true,
           "showland": true,
           "subunitcolor": "white"
          },
          "hoverlabel": {
           "align": "left"
          },
          "hovermode": "closest",
          "mapbox": {
           "style": "light"
          },
          "paper_bgcolor": "white",
          "plot_bgcolor": "#E5ECF6",
          "polar": {
           "angularaxis": {
            "gridcolor": "white",
            "linecolor": "white",
            "ticks": ""
           },
           "bgcolor": "#E5ECF6",
           "radialaxis": {
            "gridcolor": "white",
            "linecolor": "white",
            "ticks": ""
           }
          },
          "scene": {
           "xaxis": {
            "backgroundcolor": "#E5ECF6",
            "gridcolor": "white",
            "gridwidth": 2,
            "linecolor": "white",
            "showbackground": true,
            "ticks": "",
            "zerolinecolor": "white"
           },
           "yaxis": {
            "backgroundcolor": "#E5ECF6",
            "gridcolor": "white",
            "gridwidth": 2,
            "linecolor": "white",
            "showbackground": true,
            "ticks": "",
            "zerolinecolor": "white"
           },
           "zaxis": {
            "backgroundcolor": "#E5ECF6",
            "gridcolor": "white",
            "gridwidth": 2,
            "linecolor": "white",
            "showbackground": true,
            "ticks": "",
            "zerolinecolor": "white"
           }
          },
          "shapedefaults": {
           "line": {
            "color": "#2a3f5f"
           }
          },
          "ternary": {
           "aaxis": {
            "gridcolor": "white",
            "linecolor": "white",
            "ticks": ""
           },
           "baxis": {
            "gridcolor": "white",
            "linecolor": "white",
            "ticks": ""
           },
           "bgcolor": "#E5ECF6",
           "caxis": {
            "gridcolor": "white",
            "linecolor": "white",
            "ticks": ""
           }
          },
          "title": {
           "x": 0.05
          },
          "xaxis": {
           "automargin": true,
           "gridcolor": "white",
           "linecolor": "white",
           "ticks": "",
           "title": {
            "standoff": 15
           },
           "zerolinecolor": "white",
           "zerolinewidth": 2
          },
          "yaxis": {
           "automargin": true,
           "gridcolor": "white",
           "linecolor": "white",
           "ticks": "",
           "title": {
            "standoff": 15
           },
           "zerolinecolor": "white",
           "zerolinewidth": 2
          }
         }
        },
        "title": {
         "font": {
          "size": 23
         },
         "text": "연도별 위반 건수 (2016~2022)"
        },
        "xaxis": {
         "anchor": "y",
         "domain": [
          0,
          1
         ],
         "tickfont": {
          "size": 20
         },
         "title": {
          "font": {
           "size": 25
          },
          "text": "연도"
         }
        },
        "yaxis": {
         "anchor": "x",
         "domain": [
          0,
          1
         ],
         "tickfont": {
          "size": 20
         },
         "title": {
          "font": {
           "size": 25
          },
          "text": "위반 정보 수"
         }
        }
       }
      }
     },
     "metadata": {},
     "output_type": "display_data"
    }
   ],
   "source": [
    "import plotly.express as px\n",
    "\n",
    "violations_by_year_df = violations_by_year.reset_index()\n",
    "violations_by_year_df.columns = ['연도', '위반건수']\n",
    "\n",
    "fig = px.scatter(violations_by_year_df, x='연도', y='위반건수', title='연도별 위반 건수 (2016~2022)', \n",
    "                 labels={'위반건수': '위반 정보 수', '연도': '연도'})\n",
    "\n",
    "fig.add_trace(px.line(violations_by_year_df, x='연도', y='위반건수').data[0])\n",
    "\n",
    "fig.update_layout(\n",
    "    xaxis=dict(\n",
    "        title=dict(text='연도', font=dict(size=25)),\n",
    "        tickfont=dict(size=20)\n",
    "    ),\n",
    "    yaxis=dict(\n",
    "        title=dict(text='위반 정보 수', font=dict(size=25)),\n",
    "        tickfont=dict(size=20)\n",
    "    ),\n",
    "    title=dict(font=dict(size=23))\n",
    ")\n",
    "\n",
    "fig.update_traces(marker=dict(size=17))\n",
    "\n",
    "fig.show()"
   ]
  }
 ],
 "metadata": {
  "kernelspec": {
   "display_name": "base",
   "language": "python",
   "name": "python3"
  },
  "language_info": {
   "codemirror_mode": {
    "name": "ipython",
    "version": 3
   },
   "file_extension": ".py",
   "mimetype": "text/x-python",
   "name": "python",
   "nbconvert_exporter": "python",
   "pygments_lexer": "ipython3",
   "version": "3.9.13"
  }
 },
 "nbformat": 4,
 "nbformat_minor": 2
}
