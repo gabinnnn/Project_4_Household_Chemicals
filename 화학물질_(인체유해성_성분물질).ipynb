{
 "cells": [
  {
   "cell_type": "markdown",
   "metadata": {},
   "source": [
    "##### hn_cd = 화학물질 인체유해성 정보(위험도)\n",
    "##### cas_no = 화학제품 데이터\n",
    "##### 화학제품 성질 중에 인체에 유해한지"
   ]
  },
  {
   "cell_type": "code",
   "execution_count": 11,
   "metadata": {},
   "outputs": [],
   "source": [
    "import pandas as pd\n",
    "\n",
    "file1 = \"화학물질_인체유해성_정보(22년_10월).csv\"\n",
    "file2 = \"화학제품_성분물질_정보(22년_10월).csv\""
   ]
  },
  {
   "cell_type": "code",
   "execution_count": 12,
   "metadata": {},
   "outputs": [
    {
     "data": {
      "text/html": [
       "<div>\n",
       "<style scoped>\n",
       "    .dataframe tbody tr th:only-of-type {\n",
       "        vertical-align: middle;\n",
       "    }\n",
       "\n",
       "    .dataframe tbody tr th {\n",
       "        vertical-align: top;\n",
       "    }\n",
       "\n",
       "    .dataframe thead th {\n",
       "        text-align: right;\n",
       "    }\n",
       "</style>\n",
       "<table border=\"1\" class=\"dataframe\">\n",
       "  <thead>\n",
       "    <tr style=\"text-align: right;\">\n",
       "      <th></th>\n",
       "      <th>sn_no</th>\n",
       "      <th>cas_no</th>\n",
       "      <th>hn_cd</th>\n",
       "      <th>rm</th>\n",
       "      <th>origin_rm</th>\n",
       "      <th>qotat_origin_rm</th>\n",
       "      <th>chmcls_korean_cn</th>\n",
       "      <th>chmcls_eng_cn</th>\n",
       "    </tr>\n",
       "  </thead>\n",
       "  <tbody>\n",
       "    <tr>\n",
       "      <th>0</th>\n",
       "      <td>1</td>\n",
       "      <td>531-86-2</td>\n",
       "      <td>H302</td>\n",
       "      <td>NaN</td>\n",
       "      <td>NaN</td>\n",
       "      <td>NCIS</td>\n",
       "      <td>황산 벤지딘</td>\n",
       "      <td>Benzidine sulfate</td>\n",
       "    </tr>\n",
       "    <tr>\n",
       "      <th>1</th>\n",
       "      <td>2</td>\n",
       "      <td>531-86-2</td>\n",
       "      <td>H350</td>\n",
       "      <td>NaN</td>\n",
       "      <td>NaN</td>\n",
       "      <td>NCIS</td>\n",
       "      <td>황산 벤지딘</td>\n",
       "      <td>Benzidine sulfate</td>\n",
       "    </tr>\n",
       "    <tr>\n",
       "      <th>2</th>\n",
       "      <td>3</td>\n",
       "      <td>531-86-2</td>\n",
       "      <td>H400</td>\n",
       "      <td>NaN</td>\n",
       "      <td>NaN</td>\n",
       "      <td>NCIS</td>\n",
       "      <td>황산 벤지딘</td>\n",
       "      <td>Benzidine sulfate</td>\n",
       "    </tr>\n",
       "    <tr>\n",
       "      <th>3</th>\n",
       "      <td>4</td>\n",
       "      <td>531-86-2</td>\n",
       "      <td>H410</td>\n",
       "      <td>NaN</td>\n",
       "      <td>NaN</td>\n",
       "      <td>NCIS</td>\n",
       "      <td>황산 벤지딘</td>\n",
       "      <td>Benzidine sulfate</td>\n",
       "    </tr>\n",
       "    <tr>\n",
       "      <th>4</th>\n",
       "      <td>5</td>\n",
       "      <td>60-41-3</td>\n",
       "      <td>H300</td>\n",
       "      <td>NaN</td>\n",
       "      <td>NaN</td>\n",
       "      <td>NCIS</td>\n",
       "      <td>스트리크닌 황산</td>\n",
       "      <td>Strychnine sulfate</td>\n",
       "    </tr>\n",
       "  </tbody>\n",
       "</table>\n",
       "</div>"
      ],
      "text/plain": [
       "   sn_no    cas_no hn_cd   rm origin_rm qotat_origin_rm chmcls_korean_cn  \\\n",
       "0      1  531-86-2  H302  NaN       NaN            NCIS           황산 벤지딘   \n",
       "1      2  531-86-2  H350  NaN       NaN            NCIS           황산 벤지딘   \n",
       "2      3  531-86-2  H400  NaN       NaN            NCIS           황산 벤지딘   \n",
       "3      4  531-86-2  H410  NaN       NaN            NCIS           황산 벤지딘   \n",
       "4      5   60-41-3  H300  NaN       NaN            NCIS         스트리크닌 황산   \n",
       "\n",
       "        chmcls_eng_cn  \n",
       "0   Benzidine sulfate  \n",
       "1   Benzidine sulfate  \n",
       "2   Benzidine sulfate  \n",
       "3   Benzidine sulfate  \n",
       "4  Strychnine sulfate  "
      ]
     },
     "execution_count": 12,
     "metadata": {},
     "output_type": "execute_result"
    }
   ],
   "source": [
    "data1 = pd.read_csv(file1)\n",
    "data1.head(5)"
   ]
  },
  {
   "cell_type": "code",
   "execution_count": 13,
   "metadata": {},
   "outputs": [
    {
     "name": "stdout",
     "output_type": "stream",
     "text": [
      "Index(['sn_no', 'cas_no', 'hn_cd', 'rm', 'origin_rm', 'qotat_origin_rm',\n",
      "       'chmcls_korean_cn', 'chmcls_eng_cn'],\n",
      "      dtype='object')\n"
     ]
    }
   ],
   "source": [
    "print(data1.columns)"
   ]
  },
  {
   "cell_type": "code",
   "execution_count": 14,
   "metadata": {},
   "outputs": [
    {
     "name": "stderr",
     "output_type": "stream",
     "text": [
      "C:\\Users\\leegabin\\AppData\\Local\\Temp\\ipykernel_7188\\682092156.py:1: DtypeWarning: Columns (3,8) have mixed types. Specify dtype option on import or set low_memory=False.\n",
      "  data2 = pd.read_csv(file2)\n"
     ]
    },
    {
     "data": {
      "text/html": [
       "<div>\n",
       "<style scoped>\n",
       "    .dataframe tbody tr th:only-of-type {\n",
       "        vertical-align: middle;\n",
       "    }\n",
       "\n",
       "    .dataframe tbody tr th {\n",
       "        vertical-align: top;\n",
       "    }\n",
       "\n",
       "    .dataframe thead th {\n",
       "        text-align: right;\n",
       "    }\n",
       "</style>\n",
       "<table border=\"1\" class=\"dataframe\">\n",
       "  <thead>\n",
       "    <tr style=\"text-align: right;\">\n",
       "      <th></th>\n",
       "      <th>prduct_id</th>\n",
       "      <th>prdct_nm</th>\n",
       "      <th>prduct_irdnt_sn</th>\n",
       "      <th>cas_no</th>\n",
       "      <th>irdnt_korean_cn</th>\n",
       "      <th>irdnt_eng_cn</th>\n",
       "      <th>irdnt_prpos_cn</th>\n",
       "      <th>cont_cn</th>\n",
       "      <th>origin_rm</th>\n",
       "    </tr>\n",
       "  </thead>\n",
       "  <tbody>\n",
       "    <tr>\n",
       "      <th>0</th>\n",
       "      <td>p001537</td>\n",
       "      <td>리큐 진한겔 베이킹소다 일반세탁기용</td>\n",
       "      <td>3</td>\n",
       "      <td>104-68-7</td>\n",
       "      <td>2-(2-페녹시에톡시)에탄올</td>\n",
       "      <td>2-(2-phenoxyethoxy)ethanol</td>\n",
       "      <td>안정화제</td>\n",
       "      <td>NaN</td>\n",
       "      <td>초록누리</td>\n",
       "    </tr>\n",
       "    <tr>\n",
       "      <th>1</th>\n",
       "      <td>p001537</td>\n",
       "      <td>리큐 진한겔 베이킹소다 일반세탁기용</td>\n",
       "      <td>4</td>\n",
       "      <td>106-22-9</td>\n",
       "      <td>시트로넬롤</td>\n",
       "      <td>Citronellol</td>\n",
       "      <td>향료</td>\n",
       "      <td>NaN</td>\n",
       "      <td>초록누리</td>\n",
       "    </tr>\n",
       "    <tr>\n",
       "      <th>2</th>\n",
       "      <td>p001537</td>\n",
       "      <td>리큐 진한겔 베이킹소다 일반세탁기용</td>\n",
       "      <td>5</td>\n",
       "      <td>106-24-1</td>\n",
       "      <td>제라니올</td>\n",
       "      <td>Geraniol</td>\n",
       "      <td>향료</td>\n",
       "      <td>NaN</td>\n",
       "      <td>초록누리</td>\n",
       "    </tr>\n",
       "    <tr>\n",
       "      <th>3</th>\n",
       "      <td>p001537</td>\n",
       "      <td>리큐 진한겔 베이킹소다 일반세탁기용</td>\n",
       "      <td>6</td>\n",
       "      <td>107-75-5</td>\n",
       "      <td>7-하이드록시시트로넬랄</td>\n",
       "      <td>7-hydroxycitronellal</td>\n",
       "      <td>향료</td>\n",
       "      <td>NaN</td>\n",
       "      <td>초록누리</td>\n",
       "    </tr>\n",
       "    <tr>\n",
       "      <th>4</th>\n",
       "      <td>p001537</td>\n",
       "      <td>리큐 진한겔 베이킹소다 일반세탁기용</td>\n",
       "      <td>7</td>\n",
       "      <td>1205-17-0</td>\n",
       "      <td>α-메틸-1,3-벤조다이옥솔-5-프로파이온알데하이드</td>\n",
       "      <td>α-methyl-1,3-benzodioxole-5-propionaldehyde</td>\n",
       "      <td>향료</td>\n",
       "      <td>NaN</td>\n",
       "      <td>초록누리</td>\n",
       "    </tr>\n",
       "  </tbody>\n",
       "</table>\n",
       "</div>"
      ],
      "text/plain": [
       "  prduct_id             prdct_nm  prduct_irdnt_sn     cas_no  \\\n",
       "0   p001537  리큐 진한겔 베이킹소다 일반세탁기용                3   104-68-7   \n",
       "1   p001537  리큐 진한겔 베이킹소다 일반세탁기용                4   106-22-9   \n",
       "2   p001537  리큐 진한겔 베이킹소다 일반세탁기용                5   106-24-1   \n",
       "3   p001537  리큐 진한겔 베이킹소다 일반세탁기용                6   107-75-5   \n",
       "4   p001537  리큐 진한겔 베이킹소다 일반세탁기용                7  1205-17-0   \n",
       "\n",
       "                irdnt_korean_cn                                 irdnt_eng_cn  \\\n",
       "0               2-(2-페녹시에톡시)에탄올                   2-(2-phenoxyethoxy)ethanol   \n",
       "1                         시트로넬롤                                  Citronellol   \n",
       "2                          제라니올                                     Geraniol   \n",
       "3                  7-하이드록시시트로넬랄                         7-hydroxycitronellal   \n",
       "4  α-메틸-1,3-벤조다이옥솔-5-프로파이온알데하이드  α-methyl-1,3-benzodioxole-5-propionaldehyde   \n",
       "\n",
       "  irdnt_prpos_cn cont_cn origin_rm  \n",
       "0           안정화제     NaN      초록누리  \n",
       "1             향료     NaN      초록누리  \n",
       "2             향료     NaN      초록누리  \n",
       "3             향료     NaN      초록누리  \n",
       "4             향료     NaN      초록누리  "
      ]
     },
     "execution_count": 14,
     "metadata": {},
     "output_type": "execute_result"
    }
   ],
   "source": [
    "data2 = pd.read_csv(file2)\n",
    "data2.head(5)"
   ]
  },
  {
   "cell_type": "code",
   "execution_count": 15,
   "metadata": {},
   "outputs": [
    {
     "name": "stdout",
     "output_type": "stream",
     "text": [
      "Index(['prduct_id', 'prdct_nm', 'prduct_irdnt_sn', 'cas_no', 'irdnt_korean_cn',\n",
      "       'irdnt_eng_cn', 'irdnt_prpos_cn', 'cont_cn', 'origin_rm'],\n",
      "      dtype='object')\n"
     ]
    }
   ],
   "source": [
    "print(data2.columns)"
   ]
  },
  {
   "cell_type": "code",
   "execution_count": 16,
   "metadata": {},
   "outputs": [
    {
     "name": "stdout",
     "output_type": "stream",
     "text": [
      "Index(['sn_no', 'cas_no', 'hn_cd', 'rm', 'origin_rm', 'qotat_origin_rm',\n",
      "       'chmcls_korean_cn', 'chmcls_eng_cn'],\n",
      "      dtype='object')\n"
     ]
    }
   ],
   "source": [
    "file_path = '화학물질_인체유해성_정보(22년_10월).csv'\n",
    "\n",
    "df = pd.read_csv(file_path)\n",
    "\n",
    "print(df.columns)"
   ]
  },
  {
   "cell_type": "code",
   "execution_count": 17,
   "metadata": {},
   "outputs": [
    {
     "name": "stdout",
     "output_type": "stream",
     "text": [
      "Index(['prduct_id', 'prdct_nm', 'prduct_irdnt_sn', 'cas_no', 'irdnt_korean_cn',\n",
      "       'irdnt_eng_cn', 'irdnt_prpos_cn', 'cont_cn', 'origin_rm'],\n",
      "      dtype='object')\n"
     ]
    },
    {
     "name": "stderr",
     "output_type": "stream",
     "text": [
      "C:\\Users\\leegabin\\AppData\\Local\\Temp\\ipykernel_7188\\902100758.py:3: DtypeWarning: Columns (3,8) have mixed types. Specify dtype option on import or set low_memory=False.\n",
      "  df1 = pd.read_csv(file_path1)\n"
     ]
    }
   ],
   "source": [
    "file_path1 = '화학제품_성분물질_정보(22년_10월).csv'\n",
    "\n",
    "df1 = pd.read_csv(file_path1)\n",
    "\n",
    "print(df1.columns)"
   ]
  },
  {
   "cell_type": "code",
   "execution_count": 19,
   "metadata": {},
   "outputs": [
    {
     "data": {
      "text/html": [
       "<div>\n",
       "<style scoped>\n",
       "    .dataframe tbody tr th:only-of-type {\n",
       "        vertical-align: middle;\n",
       "    }\n",
       "\n",
       "    .dataframe tbody tr th {\n",
       "        vertical-align: top;\n",
       "    }\n",
       "\n",
       "    .dataframe thead th {\n",
       "        text-align: right;\n",
       "    }\n",
       "</style>\n",
       "<table border=\"1\" class=\"dataframe\">\n",
       "  <thead>\n",
       "    <tr style=\"text-align: right;\">\n",
       "      <th></th>\n",
       "      <th>sn_no</th>\n",
       "      <th>cas_no</th>\n",
       "      <th>hn_cd</th>\n",
       "      <th>rm</th>\n",
       "      <th>origin_rm_x</th>\n",
       "      <th>qotat_origin_rm</th>\n",
       "      <th>chmcls_korean_cn</th>\n",
       "      <th>chmcls_eng_cn</th>\n",
       "      <th>prduct_id</th>\n",
       "      <th>prdct_nm</th>\n",
       "      <th>prduct_irdnt_sn</th>\n",
       "      <th>irdnt_korean_cn</th>\n",
       "      <th>irdnt_eng_cn</th>\n",
       "      <th>irdnt_prpos_cn</th>\n",
       "      <th>cont_cn</th>\n",
       "      <th>origin_rm_y</th>\n",
       "    </tr>\n",
       "  </thead>\n",
       "  <tbody>\n",
       "    <tr>\n",
       "      <th>0</th>\n",
       "      <td>96</td>\n",
       "      <td>107-46-0</td>\n",
       "      <td>H225</td>\n",
       "      <td>NaN</td>\n",
       "      <td>NaN</td>\n",
       "      <td>NCIS</td>\n",
       "      <td>헥사메틸다이사이록산</td>\n",
       "      <td>Hexamethyldisiloxane; HMDS</td>\n",
       "      <td>p010553</td>\n",
       "      <td>RainOK 발수코팅 SPEED</td>\n",
       "      <td>5</td>\n",
       "      <td>헥사메틸다이실록세인</td>\n",
       "      <td>Hexamethyldisiloxane</td>\n",
       "      <td>발수제</td>\n",
       "      <td>NaN</td>\n",
       "      <td>초록누리</td>\n",
       "    </tr>\n",
       "    <tr>\n",
       "      <th>1</th>\n",
       "      <td>97</td>\n",
       "      <td>107-46-0</td>\n",
       "      <td>H400</td>\n",
       "      <td>NaN</td>\n",
       "      <td>NaN</td>\n",
       "      <td>NCIS</td>\n",
       "      <td>헥사메틸다이사이록산</td>\n",
       "      <td>Hexamethyldisiloxane; HMDS</td>\n",
       "      <td>p010553</td>\n",
       "      <td>RainOK 발수코팅 SPEED</td>\n",
       "      <td>5</td>\n",
       "      <td>헥사메틸다이실록세인</td>\n",
       "      <td>Hexamethyldisiloxane</td>\n",
       "      <td>발수제</td>\n",
       "      <td>NaN</td>\n",
       "      <td>초록누리</td>\n",
       "    </tr>\n",
       "    <tr>\n",
       "      <th>2</th>\n",
       "      <td>98</td>\n",
       "      <td>107-46-0</td>\n",
       "      <td>H410</td>\n",
       "      <td>NaN</td>\n",
       "      <td>NaN</td>\n",
       "      <td>NCIS</td>\n",
       "      <td>헥사메틸다이사이록산</td>\n",
       "      <td>Hexamethyldisiloxane; HMDS</td>\n",
       "      <td>p010553</td>\n",
       "      <td>RainOK 발수코팅 SPEED</td>\n",
       "      <td>5</td>\n",
       "      <td>헥사메틸다이실록세인</td>\n",
       "      <td>Hexamethyldisiloxane</td>\n",
       "      <td>발수제</td>\n",
       "      <td>NaN</td>\n",
       "      <td>초록누리</td>\n",
       "    </tr>\n",
       "    <tr>\n",
       "      <th>3</th>\n",
       "      <td>9412</td>\n",
       "      <td>107-46-0</td>\n",
       "      <td>H225 (98.96%)</td>\n",
       "      <td>Hexamethyldisiloxane (98.96%)</td>\n",
       "      <td>European Chemicals Agency (ECHA)</td>\n",
       "      <td>PubChem</td>\n",
       "      <td>헥사메틸다이사이록산</td>\n",
       "      <td>Hexamethyldisiloxane; HMDS</td>\n",
       "      <td>p010553</td>\n",
       "      <td>RainOK 발수코팅 SPEED</td>\n",
       "      <td>5</td>\n",
       "      <td>헥사메틸다이실록세인</td>\n",
       "      <td>Hexamethyldisiloxane</td>\n",
       "      <td>발수제</td>\n",
       "      <td>NaN</td>\n",
       "      <td>초록누리</td>\n",
       "    </tr>\n",
       "    <tr>\n",
       "      <th>4</th>\n",
       "      <td>9413</td>\n",
       "      <td>107-46-0</td>\n",
       "      <td>H400 (91.56%)</td>\n",
       "      <td>Hexamethyldisiloxane (91.56%)</td>\n",
       "      <td>European Chemicals Agency (ECHA)</td>\n",
       "      <td>PubChem</td>\n",
       "      <td>헥사메틸다이사이록산</td>\n",
       "      <td>Hexamethyldisiloxane; HMDS</td>\n",
       "      <td>p010553</td>\n",
       "      <td>RainOK 발수코팅 SPEED</td>\n",
       "      <td>5</td>\n",
       "      <td>헥사메틸다이실록세인</td>\n",
       "      <td>Hexamethyldisiloxane</td>\n",
       "      <td>발수제</td>\n",
       "      <td>NaN</td>\n",
       "      <td>초록누리</td>\n",
       "    </tr>\n",
       "  </tbody>\n",
       "</table>\n",
       "</div>"
      ],
      "text/plain": [
       "   sn_no    cas_no          hn_cd                             rm  \\\n",
       "0     96  107-46-0           H225                            NaN   \n",
       "1     97  107-46-0           H400                            NaN   \n",
       "2     98  107-46-0           H410                            NaN   \n",
       "3   9412  107-46-0  H225 (98.96%)  Hexamethyldisiloxane (98.96%)   \n",
       "4   9413  107-46-0  H400 (91.56%)  Hexamethyldisiloxane (91.56%)   \n",
       "\n",
       "                        origin_rm_x qotat_origin_rm chmcls_korean_cn  \\\n",
       "0                               NaN            NCIS       헥사메틸다이사이록산   \n",
       "1                               NaN            NCIS       헥사메틸다이사이록산   \n",
       "2                               NaN            NCIS       헥사메틸다이사이록산   \n",
       "3  European Chemicals Agency (ECHA)         PubChem       헥사메틸다이사이록산   \n",
       "4  European Chemicals Agency (ECHA)         PubChem       헥사메틸다이사이록산   \n",
       "\n",
       "                chmcls_eng_cn prduct_id           prdct_nm  prduct_irdnt_sn  \\\n",
       "0  Hexamethyldisiloxane; HMDS   p010553  RainOK 발수코팅 SPEED                5   \n",
       "1  Hexamethyldisiloxane; HMDS   p010553  RainOK 발수코팅 SPEED                5   \n",
       "2  Hexamethyldisiloxane; HMDS   p010553  RainOK 발수코팅 SPEED                5   \n",
       "3  Hexamethyldisiloxane; HMDS   p010553  RainOK 발수코팅 SPEED                5   \n",
       "4  Hexamethyldisiloxane; HMDS   p010553  RainOK 발수코팅 SPEED                5   \n",
       "\n",
       "  irdnt_korean_cn          irdnt_eng_cn irdnt_prpos_cn cont_cn origin_rm_y  \n",
       "0      헥사메틸다이실록세인  Hexamethyldisiloxane            발수제     NaN        초록누리  \n",
       "1      헥사메틸다이실록세인  Hexamethyldisiloxane            발수제     NaN        초록누리  \n",
       "2      헥사메틸다이실록세인  Hexamethyldisiloxane            발수제     NaN        초록누리  \n",
       "3      헥사메틸다이실록세인  Hexamethyldisiloxane            발수제     NaN        초록누리  \n",
       "4      헥사메틸다이실록세인  Hexamethyldisiloxane            발수제     NaN        초록누리  "
      ]
     },
     "execution_count": 19,
     "metadata": {},
     "output_type": "execute_result"
    }
   ],
   "source": [
    "merged_df = pd.merge(df, df1, on='cas_no',how='inner')\n",
    "merged_df.head(5)"
   ]
  },
  {
   "cell_type": "code",
   "execution_count": 20,
   "metadata": {},
   "outputs": [
    {
     "name": "stdout",
     "output_type": "stream",
     "text": [
      "sn_no                   0\n",
      "cas_no                  0\n",
      "hn_cd                   0\n",
      "rm                   7266\n",
      "origin_rm_x          7266\n",
      "qotat_origin_rm         0\n",
      "chmcls_korean_cn     1975\n",
      "chmcls_eng_cn          38\n",
      "prduct_id               0\n",
      "prdct_nm                0\n",
      "prduct_irdnt_sn         0\n",
      "irdnt_korean_cn      8854\n",
      "irdnt_eng_cn         1110\n",
      "irdnt_prpos_cn      10869\n",
      "cont_cn             74954\n",
      "origin_rm_y            15\n",
      "dtype: int64\n"
     ]
    }
   ],
   "source": [
    "print(merged_df.isnull().sum())"
   ]
  },
  {
   "cell_type": "markdown",
   "metadata": {},
   "source": [
    "- 수치"
   ]
  },
  {
   "cell_type": "code",
   "execution_count": 22,
   "metadata": {},
   "outputs": [
    {
     "name": "stdout",
     "output_type": "stream",
     "text": [
      "df의 행 수: 41652\n",
      "df1의 행 수: 552855\n",
      "merged_df의 행 수: 74973\n"
     ]
    }
   ],
   "source": [
    "num_rows_df = df.shape[0]\n",
    "num_rows_df1 = df1.shape[0]\n",
    "num_rows_merged_df = merged_df.shape[0]\n",
    "\n",
    "print(\"df의 행 수:\", num_rows_df)\n",
    "print(\"df1의 행 수:\", num_rows_df1)\n",
    "print(\"merged_df의 행 수:\", num_rows_merged_df)"
   ]
  },
  {
   "cell_type": "code",
   "execution_count": 23,
   "metadata": {},
   "outputs": [
    {
     "data": {
      "text/plain": [
       "H315             5106\n",
       "H319             3033\n",
       "H335             2880\n",
       "H317             2860\n",
       "H302             2461\n",
       "                 ... \n",
       "H373 (34.55%)       1\n",
       "H411 (72%)          1\n",
       "H224 (83.52%)       1\n",
       "H225 (16.48%)       1\n",
       "H400 (87.5%)        1\n",
       "Name: hn_cd, Length: 755, dtype: int64"
      ]
     },
     "execution_count": 23,
     "metadata": {},
     "output_type": "execute_result"
    }
   ],
   "source": [
    "counts = merged_df['hn_cd'].value_counts()\n",
    "counts"
   ]
  },
  {
   "cell_type": "code",
   "execution_count": 24,
   "metadata": {},
   "outputs": [
    {
     "data": {
      "text/plain": [
       "80-54-6       8016\n",
       "138-86-3      5934\n",
       "76-22-2       5895\n",
       "74-98-6       4841\n",
       "497-19-8      3383\n",
       "              ... \n",
       "68391-01-5       2\n",
       "7440-23-5        2\n",
       "84-74-2          2\n",
       "872-50-4         2\n",
       "68039-69-0       1\n",
       "Name: cas_no, Length: 224, dtype: int64"
      ]
     },
     "execution_count": 24,
     "metadata": {},
     "output_type": "execute_result"
    }
   ],
   "source": [
    "counts1 = merged_df['cas_no'].value_counts()\n",
    "counts1"
   ]
  },
  {
   "cell_type": "markdown",
   "metadata": {},
   "source": [
    "### 화학물질정보처리시스템(https://kreach.me.go.kr/repwrt/ghs/ghsClassLabeling/ghsHCodeTabList.do)\n",
    "#### 유해성 항목 및 구분 | 유해, 위험문구\n",
    "\n",
    "- H315 (피부부식성/자극성(3.2)의 구분 2 | 피부에 자극을 일으킴)\n",
    "- H317 (피부 과민성(3.4)의 구분 1(1A, 1B)  |  알레르기성 피부 반응을 일으킬 수 있음)\n",
    "- H319 (심한 눈 손상/눈 자극성(3.3)의 구분 2(2A)  |  눈에 심한 자극을 일으킴)\n",
    "- H335 (특정 표적장기 독성-1회 노출(3.8)의 구분 3, 호흡기 자극  |  호흡기 자극을 일으킬 수 있음)\n",
    "- H302 (급성독성-경구(3.1)의 구분 4  |  삼키면 유해함)"
   ]
  },
  {
   "cell_type": "markdown",
   "metadata": {},
   "source": [
    "- cas_no로 조인한 후에 hn_cd로 시각화 "
   ]
  },
  {
   "cell_type": "code",
   "execution_count": 25,
   "metadata": {},
   "outputs": [
    {
     "data": {
      "application/vnd.plotly.v1+json": {
       "config": {
        "plotlyServerURL": "https://plot.ly"
       },
       "data": [
        {
         "alignmentgroup": "True",
         "hovertemplate": "위해_코드=%{x}<br>개수=%{text}<extra></extra>",
         "legendgroup": "",
         "marker": {
          "color": "#636efa",
          "pattern": {
           "shape": ""
          }
         },
         "name": "",
         "offsetgroup": "",
         "orientation": "v",
         "showlegend": false,
         "text": [
          5106,
          3033,
          2880,
          2860,
          2461
         ],
         "textfont": {
          "size": 15
         },
         "textposition": "outside",
         "type": "bar",
         "x": [
          "H315",
          "H319",
          "H335",
          "H317",
          "H302"
         ],
         "xaxis": "x",
         "y": [
          5106,
          3033,
          2880,
          2860,
          2461
         ],
         "yaxis": "y"
        }
       ],
       "layout": {
        "barmode": "relative",
        "legend": {
         "tracegroupgap": 0
        },
        "template": {
         "data": {
          "bar": [
           {
            "error_x": {
             "color": "#2a3f5f"
            },
            "error_y": {
             "color": "#2a3f5f"
            },
            "marker": {
             "line": {
              "color": "#E5ECF6",
              "width": 0.5
             },
             "pattern": {
              "fillmode": "overlay",
              "size": 10,
              "solidity": 0.2
             }
            },
            "type": "bar"
           }
          ],
          "barpolar": [
           {
            "marker": {
             "line": {
              "color": "#E5ECF6",
              "width": 0.5
             },
             "pattern": {
              "fillmode": "overlay",
              "size": 10,
              "solidity": 0.2
             }
            },
            "type": "barpolar"
           }
          ],
          "carpet": [
           {
            "aaxis": {
             "endlinecolor": "#2a3f5f",
             "gridcolor": "white",
             "linecolor": "white",
             "minorgridcolor": "white",
             "startlinecolor": "#2a3f5f"
            },
            "baxis": {
             "endlinecolor": "#2a3f5f",
             "gridcolor": "white",
             "linecolor": "white",
             "minorgridcolor": "white",
             "startlinecolor": "#2a3f5f"
            },
            "type": "carpet"
           }
          ],
          "choropleth": [
           {
            "colorbar": {
             "outlinewidth": 0,
             "ticks": ""
            },
            "type": "choropleth"
           }
          ],
          "contour": [
           {
            "colorbar": {
             "outlinewidth": 0,
             "ticks": ""
            },
            "colorscale": [
             [
              0,
              "#0d0887"
             ],
             [
              0.1111111111111111,
              "#46039f"
             ],
             [
              0.2222222222222222,
              "#7201a8"
             ],
             [
              0.3333333333333333,
              "#9c179e"
             ],
             [
              0.4444444444444444,
              "#bd3786"
             ],
             [
              0.5555555555555556,
              "#d8576b"
             ],
             [
              0.6666666666666666,
              "#ed7953"
             ],
             [
              0.7777777777777778,
              "#fb9f3a"
             ],
             [
              0.8888888888888888,
              "#fdca26"
             ],
             [
              1,
              "#f0f921"
             ]
            ],
            "type": "contour"
           }
          ],
          "contourcarpet": [
           {
            "colorbar": {
             "outlinewidth": 0,
             "ticks": ""
            },
            "type": "contourcarpet"
           }
          ],
          "heatmap": [
           {
            "colorbar": {
             "outlinewidth": 0,
             "ticks": ""
            },
            "colorscale": [
             [
              0,
              "#0d0887"
             ],
             [
              0.1111111111111111,
              "#46039f"
             ],
             [
              0.2222222222222222,
              "#7201a8"
             ],
             [
              0.3333333333333333,
              "#9c179e"
             ],
             [
              0.4444444444444444,
              "#bd3786"
             ],
             [
              0.5555555555555556,
              "#d8576b"
             ],
             [
              0.6666666666666666,
              "#ed7953"
             ],
             [
              0.7777777777777778,
              "#fb9f3a"
             ],
             [
              0.8888888888888888,
              "#fdca26"
             ],
             [
              1,
              "#f0f921"
             ]
            ],
            "type": "heatmap"
           }
          ],
          "heatmapgl": [
           {
            "colorbar": {
             "outlinewidth": 0,
             "ticks": ""
            },
            "colorscale": [
             [
              0,
              "#0d0887"
             ],
             [
              0.1111111111111111,
              "#46039f"
             ],
             [
              0.2222222222222222,
              "#7201a8"
             ],
             [
              0.3333333333333333,
              "#9c179e"
             ],
             [
              0.4444444444444444,
              "#bd3786"
             ],
             [
              0.5555555555555556,
              "#d8576b"
             ],
             [
              0.6666666666666666,
              "#ed7953"
             ],
             [
              0.7777777777777778,
              "#fb9f3a"
             ],
             [
              0.8888888888888888,
              "#fdca26"
             ],
             [
              1,
              "#f0f921"
             ]
            ],
            "type": "heatmapgl"
           }
          ],
          "histogram": [
           {
            "marker": {
             "pattern": {
              "fillmode": "overlay",
              "size": 10,
              "solidity": 0.2
             }
            },
            "type": "histogram"
           }
          ],
          "histogram2d": [
           {
            "colorbar": {
             "outlinewidth": 0,
             "ticks": ""
            },
            "colorscale": [
             [
              0,
              "#0d0887"
             ],
             [
              0.1111111111111111,
              "#46039f"
             ],
             [
              0.2222222222222222,
              "#7201a8"
             ],
             [
              0.3333333333333333,
              "#9c179e"
             ],
             [
              0.4444444444444444,
              "#bd3786"
             ],
             [
              0.5555555555555556,
              "#d8576b"
             ],
             [
              0.6666666666666666,
              "#ed7953"
             ],
             [
              0.7777777777777778,
              "#fb9f3a"
             ],
             [
              0.8888888888888888,
              "#fdca26"
             ],
             [
              1,
              "#f0f921"
             ]
            ],
            "type": "histogram2d"
           }
          ],
          "histogram2dcontour": [
           {
            "colorbar": {
             "outlinewidth": 0,
             "ticks": ""
            },
            "colorscale": [
             [
              0,
              "#0d0887"
             ],
             [
              0.1111111111111111,
              "#46039f"
             ],
             [
              0.2222222222222222,
              "#7201a8"
             ],
             [
              0.3333333333333333,
              "#9c179e"
             ],
             [
              0.4444444444444444,
              "#bd3786"
             ],
             [
              0.5555555555555556,
              "#d8576b"
             ],
             [
              0.6666666666666666,
              "#ed7953"
             ],
             [
              0.7777777777777778,
              "#fb9f3a"
             ],
             [
              0.8888888888888888,
              "#fdca26"
             ],
             [
              1,
              "#f0f921"
             ]
            ],
            "type": "histogram2dcontour"
           }
          ],
          "mesh3d": [
           {
            "colorbar": {
             "outlinewidth": 0,
             "ticks": ""
            },
            "type": "mesh3d"
           }
          ],
          "parcoords": [
           {
            "line": {
             "colorbar": {
              "outlinewidth": 0,
              "ticks": ""
             }
            },
            "type": "parcoords"
           }
          ],
          "pie": [
           {
            "automargin": true,
            "type": "pie"
           }
          ],
          "scatter": [
           {
            "fillpattern": {
             "fillmode": "overlay",
             "size": 10,
             "solidity": 0.2
            },
            "type": "scatter"
           }
          ],
          "scatter3d": [
           {
            "line": {
             "colorbar": {
              "outlinewidth": 0,
              "ticks": ""
             }
            },
            "marker": {
             "colorbar": {
              "outlinewidth": 0,
              "ticks": ""
             }
            },
            "type": "scatter3d"
           }
          ],
          "scattercarpet": [
           {
            "marker": {
             "colorbar": {
              "outlinewidth": 0,
              "ticks": ""
             }
            },
            "type": "scattercarpet"
           }
          ],
          "scattergeo": [
           {
            "marker": {
             "colorbar": {
              "outlinewidth": 0,
              "ticks": ""
             }
            },
            "type": "scattergeo"
           }
          ],
          "scattergl": [
           {
            "marker": {
             "colorbar": {
              "outlinewidth": 0,
              "ticks": ""
             }
            },
            "type": "scattergl"
           }
          ],
          "scattermapbox": [
           {
            "marker": {
             "colorbar": {
              "outlinewidth": 0,
              "ticks": ""
             }
            },
            "type": "scattermapbox"
           }
          ],
          "scatterpolar": [
           {
            "marker": {
             "colorbar": {
              "outlinewidth": 0,
              "ticks": ""
             }
            },
            "type": "scatterpolar"
           }
          ],
          "scatterpolargl": [
           {
            "marker": {
             "colorbar": {
              "outlinewidth": 0,
              "ticks": ""
             }
            },
            "type": "scatterpolargl"
           }
          ],
          "scatterternary": [
           {
            "marker": {
             "colorbar": {
              "outlinewidth": 0,
              "ticks": ""
             }
            },
            "type": "scatterternary"
           }
          ],
          "surface": [
           {
            "colorbar": {
             "outlinewidth": 0,
             "ticks": ""
            },
            "colorscale": [
             [
              0,
              "#0d0887"
             ],
             [
              0.1111111111111111,
              "#46039f"
             ],
             [
              0.2222222222222222,
              "#7201a8"
             ],
             [
              0.3333333333333333,
              "#9c179e"
             ],
             [
              0.4444444444444444,
              "#bd3786"
             ],
             [
              0.5555555555555556,
              "#d8576b"
             ],
             [
              0.6666666666666666,
              "#ed7953"
             ],
             [
              0.7777777777777778,
              "#fb9f3a"
             ],
             [
              0.8888888888888888,
              "#fdca26"
             ],
             [
              1,
              "#f0f921"
             ]
            ],
            "type": "surface"
           }
          ],
          "table": [
           {
            "cells": {
             "fill": {
              "color": "#EBF0F8"
             },
             "line": {
              "color": "white"
             }
            },
            "header": {
             "fill": {
              "color": "#C8D4E3"
             },
             "line": {
              "color": "white"
             }
            },
            "type": "table"
           }
          ]
         },
         "layout": {
          "annotationdefaults": {
           "arrowcolor": "#2a3f5f",
           "arrowhead": 0,
           "arrowwidth": 1
          },
          "autotypenumbers": "strict",
          "coloraxis": {
           "colorbar": {
            "outlinewidth": 0,
            "ticks": ""
           }
          },
          "colorscale": {
           "diverging": [
            [
             0,
             "#8e0152"
            ],
            [
             0.1,
             "#c51b7d"
            ],
            [
             0.2,
             "#de77ae"
            ],
            [
             0.3,
             "#f1b6da"
            ],
            [
             0.4,
             "#fde0ef"
            ],
            [
             0.5,
             "#f7f7f7"
            ],
            [
             0.6,
             "#e6f5d0"
            ],
            [
             0.7,
             "#b8e186"
            ],
            [
             0.8,
             "#7fbc41"
            ],
            [
             0.9,
             "#4d9221"
            ],
            [
             1,
             "#276419"
            ]
           ],
           "sequential": [
            [
             0,
             "#0d0887"
            ],
            [
             0.1111111111111111,
             "#46039f"
            ],
            [
             0.2222222222222222,
             "#7201a8"
            ],
            [
             0.3333333333333333,
             "#9c179e"
            ],
            [
             0.4444444444444444,
             "#bd3786"
            ],
            [
             0.5555555555555556,
             "#d8576b"
            ],
            [
             0.6666666666666666,
             "#ed7953"
            ],
            [
             0.7777777777777778,
             "#fb9f3a"
            ],
            [
             0.8888888888888888,
             "#fdca26"
            ],
            [
             1,
             "#f0f921"
            ]
           ],
           "sequentialminus": [
            [
             0,
             "#0d0887"
            ],
            [
             0.1111111111111111,
             "#46039f"
            ],
            [
             0.2222222222222222,
             "#7201a8"
            ],
            [
             0.3333333333333333,
             "#9c179e"
            ],
            [
             0.4444444444444444,
             "#bd3786"
            ],
            [
             0.5555555555555556,
             "#d8576b"
            ],
            [
             0.6666666666666666,
             "#ed7953"
            ],
            [
             0.7777777777777778,
             "#fb9f3a"
            ],
            [
             0.8888888888888888,
             "#fdca26"
            ],
            [
             1,
             "#f0f921"
            ]
           ]
          },
          "colorway": [
           "#636efa",
           "#EF553B",
           "#00cc96",
           "#ab63fa",
           "#FFA15A",
           "#19d3f3",
           "#FF6692",
           "#B6E880",
           "#FF97FF",
           "#FECB52"
          ],
          "font": {
           "color": "#2a3f5f"
          },
          "geo": {
           "bgcolor": "white",
           "lakecolor": "white",
           "landcolor": "#E5ECF6",
           "showlakes": true,
           "showland": true,
           "subunitcolor": "white"
          },
          "hoverlabel": {
           "align": "left"
          },
          "hovermode": "closest",
          "mapbox": {
           "style": "light"
          },
          "paper_bgcolor": "white",
          "plot_bgcolor": "#E5ECF6",
          "polar": {
           "angularaxis": {
            "gridcolor": "white",
            "linecolor": "white",
            "ticks": ""
           },
           "bgcolor": "#E5ECF6",
           "radialaxis": {
            "gridcolor": "white",
            "linecolor": "white",
            "ticks": ""
           }
          },
          "scene": {
           "xaxis": {
            "backgroundcolor": "#E5ECF6",
            "gridcolor": "white",
            "gridwidth": 2,
            "linecolor": "white",
            "showbackground": true,
            "ticks": "",
            "zerolinecolor": "white"
           },
           "yaxis": {
            "backgroundcolor": "#E5ECF6",
            "gridcolor": "white",
            "gridwidth": 2,
            "linecolor": "white",
            "showbackground": true,
            "ticks": "",
            "zerolinecolor": "white"
           },
           "zaxis": {
            "backgroundcolor": "#E5ECF6",
            "gridcolor": "white",
            "gridwidth": 2,
            "linecolor": "white",
            "showbackground": true,
            "ticks": "",
            "zerolinecolor": "white"
           }
          },
          "shapedefaults": {
           "line": {
            "color": "#2a3f5f"
           }
          },
          "ternary": {
           "aaxis": {
            "gridcolor": "white",
            "linecolor": "white",
            "ticks": ""
           },
           "baxis": {
            "gridcolor": "white",
            "linecolor": "white",
            "ticks": ""
           },
           "bgcolor": "#E5ECF6",
           "caxis": {
            "gridcolor": "white",
            "linecolor": "white",
            "ticks": ""
           }
          },
          "title": {
           "x": 0.05
          },
          "xaxis": {
           "automargin": true,
           "gridcolor": "white",
           "linecolor": "white",
           "ticks": "",
           "title": {
            "standoff": 15
           },
           "zerolinecolor": "white",
           "zerolinewidth": 2
          },
          "yaxis": {
           "automargin": true,
           "gridcolor": "white",
           "linecolor": "white",
           "ticks": "",
           "title": {
            "standoff": 15
           },
           "zerolinecolor": "white",
           "zerolinewidth": 2
          }
         }
        },
        "title": {
         "text": "Top 5 화학제품 인체유해성"
        },
        "xaxis": {
         "anchor": "y",
         "domain": [
          0,
          1
         ],
         "title": {
          "font": {
           "size": 20
          },
          "text": "위해 코드"
         }
        },
        "yaxis": {
         "anchor": "x",
         "domain": [
          0,
          1
         ],
         "title": {
          "font": {
           "size": 20
          },
          "text": "개수"
         }
        }
       }
      }
     },
     "metadata": {},
     "output_type": "display_data"
    }
   ],
   "source": [
    "import plotly.express as px\n",
    "\n",
    "top_hn_cd = merged_df['hn_cd'].value_counts().head(5).reset_index()\n",
    "top_hn_cd.columns = ['hn_cd', 'count']\n",
    "\n",
    "fig = px.bar(top_hn_cd, x='hn_cd', y='count', \n",
    "             labels={'hn_cd': '위해_코드', 'count': '개수'}, \n",
    "             title='Top 5 화학제품 인체유해성',\n",
    "             text='count')\n",
    "\n",
    "fig.update_layout(xaxis_title='위해 코드', yaxis_title='개수')\n",
    "fig.update_traces(textposition='outside')\n",
    "\n",
    "fig.update_layout(xaxis=dict(title=dict(font=dict(size=20))),\n",
    "                  yaxis=dict(title=dict(font=dict(size=20))))\n",
    "\n",
    "fig.update_traces(textfont_size=10)\n",
    "\n",
    "fig.update_traces(textfont=dict(size=15))\n",
    "\n",
    "fig.show()"
   ]
  },
  {
   "cell_type": "markdown",
   "metadata": {},
   "source": [
    "### H315에 대해"
   ]
  },
  {
   "cell_type": "code",
   "execution_count": 27,
   "metadata": {},
   "outputs": [
    {
     "data": {
      "text/html": [
       "<div>\n",
       "<style scoped>\n",
       "    .dataframe tbody tr th:only-of-type {\n",
       "        vertical-align: middle;\n",
       "    }\n",
       "\n",
       "    .dataframe tbody tr th {\n",
       "        vertical-align: top;\n",
       "    }\n",
       "\n",
       "    .dataframe thead th {\n",
       "        text-align: right;\n",
       "    }\n",
       "</style>\n",
       "<table border=\"1\" class=\"dataframe\">\n",
       "  <thead>\n",
       "    <tr style=\"text-align: right;\">\n",
       "      <th></th>\n",
       "      <th>sn_no</th>\n",
       "      <th>cas_no</th>\n",
       "      <th>hn_cd</th>\n",
       "      <th>rm</th>\n",
       "      <th>origin_rm_x</th>\n",
       "      <th>qotat_origin_rm</th>\n",
       "      <th>chmcls_korean_cn</th>\n",
       "      <th>chmcls_eng_cn</th>\n",
       "      <th>prduct_id</th>\n",
       "      <th>prdct_nm</th>\n",
       "      <th>prduct_irdnt_sn</th>\n",
       "      <th>irdnt_korean_cn</th>\n",
       "      <th>irdnt_eng_cn</th>\n",
       "      <th>irdnt_prpos_cn</th>\n",
       "      <th>cont_cn</th>\n",
       "      <th>origin_rm_y</th>\n",
       "    </tr>\n",
       "  </thead>\n",
       "  <tbody>\n",
       "    <tr>\n",
       "      <th>203</th>\n",
       "      <td>740</td>\n",
       "      <td>14901-07-6</td>\n",
       "      <td>H315</td>\n",
       "      <td>beta-Ionone</td>\n",
       "      <td>Hazardous Substances Data Bank (HSDB)</td>\n",
       "      <td>PubChem</td>\n",
       "      <td>베타-아이온온</td>\n",
       "      <td>4-(2,6,6-Trimethyl-1-cyclohexen-1-yl)-3-buten-...</td>\n",
       "      <td>p001575</td>\n",
       "      <td>옥시크린 액체형2.5L</td>\n",
       "      <td>13</td>\n",
       "      <td>4-(2,6,6-트라이메틸사이클로헥스-1-엔-1-일)-뷰트-3-엔-2-온</td>\n",
       "      <td>4-(2,6,6-trimethylcyclohex-1-ene-1-yl)-but-3-e...</td>\n",
       "      <td>향료</td>\n",
       "      <td>NaN</td>\n",
       "      <td>초록누리</td>\n",
       "    </tr>\n",
       "    <tr>\n",
       "      <th>204</th>\n",
       "      <td>740</td>\n",
       "      <td>14901-07-6</td>\n",
       "      <td>H315</td>\n",
       "      <td>beta-Ionone</td>\n",
       "      <td>Hazardous Substances Data Bank (HSDB)</td>\n",
       "      <td>PubChem</td>\n",
       "      <td>베타-아이온온</td>\n",
       "      <td>4-(2,6,6-Trimethyl-1-cyclohexen-1-yl)-3-buten-...</td>\n",
       "      <td>p001580</td>\n",
       "      <td>샤프란케어 울트라스트랭스 상큼한향</td>\n",
       "      <td>13</td>\n",
       "      <td>4-(2,6,6-트라이메틸사이클로헥스-1-엔-1-일)-뷰트-3-엔-2-온</td>\n",
       "      <td>4-(2,6,6-trimethylcyclohex-1-ene-1-yl)-but-3-e...</td>\n",
       "      <td>향료</td>\n",
       "      <td>NaN</td>\n",
       "      <td>초록누리</td>\n",
       "    </tr>\n",
       "    <tr>\n",
       "      <th>205</th>\n",
       "      <td>740</td>\n",
       "      <td>14901-07-6</td>\n",
       "      <td>H315</td>\n",
       "      <td>beta-Ionone</td>\n",
       "      <td>Hazardous Substances Data Bank (HSDB)</td>\n",
       "      <td>PubChem</td>\n",
       "      <td>베타-아이온온</td>\n",
       "      <td>4-(2,6,6-Trimethyl-1-cyclohexen-1-yl)-3-buten-...</td>\n",
       "      <td>p001591</td>\n",
       "      <td>샤프란 꽃담초 섬유탈취제 연꽃</td>\n",
       "      <td>8</td>\n",
       "      <td>4-(2,6,6-트라이메틸사이클로헥스-1-엔-1-일)-뷰트-3-엔-2-온</td>\n",
       "      <td>4-(2,6,6-trimethylcyclohex-1-ene-1-yl)-but-3-e...</td>\n",
       "      <td>향료</td>\n",
       "      <td>NaN</td>\n",
       "      <td>초록누리</td>\n",
       "    </tr>\n",
       "    <tr>\n",
       "      <th>206</th>\n",
       "      <td>740</td>\n",
       "      <td>14901-07-6</td>\n",
       "      <td>H315</td>\n",
       "      <td>beta-Ionone</td>\n",
       "      <td>Hazardous Substances Data Bank (HSDB)</td>\n",
       "      <td>PubChem</td>\n",
       "      <td>베타-아이온온</td>\n",
       "      <td>4-(2,6,6-Trimethyl-1-cyclohexen-1-yl)-3-buten-...</td>\n",
       "      <td>p001625</td>\n",
       "      <td>에어퍼퓸(오드플라워)</td>\n",
       "      <td>3</td>\n",
       "      <td>베타아이오넌</td>\n",
       "      <td>4-(2,6,6-Trimethyl-1-cyclohexen-1-yl)-3-buten-...</td>\n",
       "      <td>향료</td>\n",
       "      <td>NaN</td>\n",
       "      <td>초록누리</td>\n",
       "    </tr>\n",
       "    <tr>\n",
       "      <th>207</th>\n",
       "      <td>740</td>\n",
       "      <td>14901-07-6</td>\n",
       "      <td>H315</td>\n",
       "      <td>beta-Ionone</td>\n",
       "      <td>Hazardous Substances Data Bank (HSDB)</td>\n",
       "      <td>PubChem</td>\n",
       "      <td>베타-아이온온</td>\n",
       "      <td>4-(2,6,6-Trimethyl-1-cyclohexen-1-yl)-3-buten-...</td>\n",
       "      <td>p001939</td>\n",
       "      <td>폴라프레쉬 선바이저 라벤더</td>\n",
       "      <td>14</td>\n",
       "      <td>4-(2,6,6-트라이메틸사이클로헥스-1-엔-1-일)-뷰트-3-엔-2-온</td>\n",
       "      <td>4-(2,6,6-trimethylcyclohex-1-ene-1-yl)-but-3-e...</td>\n",
       "      <td>향료</td>\n",
       "      <td>NaN</td>\n",
       "      <td>초록누리</td>\n",
       "    </tr>\n",
       "  </tbody>\n",
       "</table>\n",
       "</div>"
      ],
      "text/plain": [
       "     sn_no      cas_no hn_cd           rm  \\\n",
       "203    740  14901-07-6  H315  beta-Ionone   \n",
       "204    740  14901-07-6  H315  beta-Ionone   \n",
       "205    740  14901-07-6  H315  beta-Ionone   \n",
       "206    740  14901-07-6  H315  beta-Ionone   \n",
       "207    740  14901-07-6  H315  beta-Ionone   \n",
       "\n",
       "                               origin_rm_x qotat_origin_rm chmcls_korean_cn  \\\n",
       "203  Hazardous Substances Data Bank (HSDB)         PubChem          베타-아이온온   \n",
       "204  Hazardous Substances Data Bank (HSDB)         PubChem          베타-아이온온   \n",
       "205  Hazardous Substances Data Bank (HSDB)         PubChem          베타-아이온온   \n",
       "206  Hazardous Substances Data Bank (HSDB)         PubChem          베타-아이온온   \n",
       "207  Hazardous Substances Data Bank (HSDB)         PubChem          베타-아이온온   \n",
       "\n",
       "                                         chmcls_eng_cn prduct_id  \\\n",
       "203  4-(2,6,6-Trimethyl-1-cyclohexen-1-yl)-3-buten-...   p001575   \n",
       "204  4-(2,6,6-Trimethyl-1-cyclohexen-1-yl)-3-buten-...   p001580   \n",
       "205  4-(2,6,6-Trimethyl-1-cyclohexen-1-yl)-3-buten-...   p001591   \n",
       "206  4-(2,6,6-Trimethyl-1-cyclohexen-1-yl)-3-buten-...   p001625   \n",
       "207  4-(2,6,6-Trimethyl-1-cyclohexen-1-yl)-3-buten-...   p001939   \n",
       "\n",
       "               prdct_nm  prduct_irdnt_sn  \\\n",
       "203        옥시크린 액체형2.5L               13   \n",
       "204  샤프란케어 울트라스트랭스 상큼한향               13   \n",
       "205    샤프란 꽃담초 섬유탈취제 연꽃                8   \n",
       "206         에어퍼퓸(오드플라워)                3   \n",
       "207      폴라프레쉬 선바이저 라벤더               14   \n",
       "\n",
       "                              irdnt_korean_cn  \\\n",
       "203  4-(2,6,6-트라이메틸사이클로헥스-1-엔-1-일)-뷰트-3-엔-2-온   \n",
       "204  4-(2,6,6-트라이메틸사이클로헥스-1-엔-1-일)-뷰트-3-엔-2-온   \n",
       "205  4-(2,6,6-트라이메틸사이클로헥스-1-엔-1-일)-뷰트-3-엔-2-온   \n",
       "206                                    베타아이오넌   \n",
       "207  4-(2,6,6-트라이메틸사이클로헥스-1-엔-1-일)-뷰트-3-엔-2-온   \n",
       "\n",
       "                                          irdnt_eng_cn irdnt_prpos_cn cont_cn  \\\n",
       "203  4-(2,6,6-trimethylcyclohex-1-ene-1-yl)-but-3-e...             향료     NaN   \n",
       "204  4-(2,6,6-trimethylcyclohex-1-ene-1-yl)-but-3-e...             향료     NaN   \n",
       "205  4-(2,6,6-trimethylcyclohex-1-ene-1-yl)-but-3-e...             향료     NaN   \n",
       "206  4-(2,6,6-Trimethyl-1-cyclohexen-1-yl)-3-buten-...             향료     NaN   \n",
       "207  4-(2,6,6-trimethylcyclohex-1-ene-1-yl)-but-3-e...             향료     NaN   \n",
       "\n",
       "    origin_rm_y  \n",
       "203        초록누리  \n",
       "204        초록누리  \n",
       "205        초록누리  \n",
       "206        초록누리  \n",
       "207        초록누리  "
      ]
     },
     "execution_count": 27,
     "metadata": {},
     "output_type": "execute_result"
    }
   ],
   "source": [
    "H315_data = merged_df[merged_df['hn_cd'] == 'H315']\n",
    "H315_data.head(5)"
   ]
  },
  {
   "cell_type": "code",
   "execution_count": 28,
   "metadata": {},
   "outputs": [
    {
     "data": {
      "text/plain": [
       "203      향료\n",
       "204      향료\n",
       "205      향료\n",
       "206      향료\n",
       "207      향료\n",
       "         ..\n",
       "74696    향료\n",
       "74697    향료\n",
       "74698    향료\n",
       "74699    향료\n",
       "74700    향료\n",
       "Name: irdnt_prpos_cn, Length: 5106, dtype: object"
      ]
     },
     "execution_count": 28,
     "metadata": {},
     "output_type": "execute_result"
    }
   ],
   "source": [
    "H315_data['irdnt_prpos_cn']"
   ]
  },
  {
   "cell_type": "code",
   "execution_count": 29,
   "metadata": {},
   "outputs": [
    {
     "name": "stdout",
     "output_type": "stream",
     "text": [
      "['향료' nan '착향제' '철분제거제' '충진제' '성능보조제' '부식방지제' '공정제' '발포제' '보조제' '알칼리제'\n",
      " '백색의 분말' '세정보조제' '산도조절제' '첨가제' '세정제' '세척보조제' '중화제' '알칼리제, 세정보조' '세탁세제'\n",
      " '이온강화제' '안정화제' '계면활성제' '산소계표백제' '제형화제' '알칼리보조제' '유기산, 세정제' '첨가제, PH조절제'\n",
      " '세정제, 세척제' '항균제' '증점제' '에어로졸 추진제' '분사제' '용매제' '액화가스' '방청제' '압축가스' '냉각제'\n",
      " '프래그런스오일' '디퓨저베이스' '방향제, 탈취제' '방향첨가제' '이염방지제' '방향제' '방부제' '살균제, 보존제, 용매제'\n",
      " '피부컨디셔닝제' '보존제' '색소' '탈취제' '이음방지' '분산제' '착색제' '빙점강하' '컨디셔닝제' '보류제' '유화제'\n",
      " '방청보조' '보습제' '보습제, 용매제' '피부유연제' '용매제, 보습제' '세제화합물' '세척제' '점도조절제'\n",
      " '계면활성제(비이온)' '오렌지오일' '희석제' '충전제, 보조제' '용해제' '점증제' '접착제, 경화제' '페인트제' '소독제'\n",
      " '침투제' '제거제']\n"
     ]
    }
   ],
   "source": [
    "unique_ingredients = H315_data['irdnt_prpos_cn'].unique()\n",
    "print(unique_ingredients)"
   ]
  },
  {
   "cell_type": "code",
   "execution_count": 31,
   "metadata": {},
   "outputs": [
    {
     "name": "stdout",
     "output_type": "stream",
     "text": [
      "향료               2958\n",
      "분사제               306\n",
      "산도조절제             128\n",
      "용매제               101\n",
      "알칼리제               82\n",
      "                 ... \n",
      "빙점강하                1\n",
      "분산제                 1\n",
      "피부컨디셔닝제             1\n",
      "살균제, 보존제, 용매제       1\n",
      "제거제                 1\n",
      "Name: irdnt_prpos_cn, Length: 75, dtype: int64\n"
     ]
    }
   ],
   "source": [
    "ingredient_counts = H315_data['irdnt_prpos_cn'].value_counts()\n",
    "print(ingredient_counts)"
   ]
  },
  {
   "cell_type": "markdown",
   "metadata": {},
   "source": [
    "### Top 5 cas no \n",
    "- CAS No(CAS 등록번호) = Chemical Abstract Service Register Number의 약자로 화학구조나 조성이 확정된 화학물질에 부여된 고유 번호. 미국 화학회에서 운영하며, 모든 화학물질을 중복 없이 찾을 수 있도록 도와주는 서비스."
   ]
  },
  {
   "cell_type": "code",
   "execution_count": 33,
   "metadata": {},
   "outputs": [
    {
     "data": {
      "text/html": [
       "<div>\n",
       "<style scoped>\n",
       "    .dataframe tbody tr th:only-of-type {\n",
       "        vertical-align: middle;\n",
       "    }\n",
       "\n",
       "    .dataframe tbody tr th {\n",
       "        vertical-align: top;\n",
       "    }\n",
       "\n",
       "    .dataframe thead th {\n",
       "        text-align: right;\n",
       "    }\n",
       "</style>\n",
       "<table border=\"1\" class=\"dataframe\">\n",
       "  <thead>\n",
       "    <tr style=\"text-align: right;\">\n",
       "      <th></th>\n",
       "      <th>sn_no</th>\n",
       "      <th>cas_no</th>\n",
       "      <th>hn_cd</th>\n",
       "      <th>rm</th>\n",
       "      <th>origin_rm_x</th>\n",
       "      <th>qotat_origin_rm</th>\n",
       "      <th>chmcls_korean_cn</th>\n",
       "      <th>chmcls_eng_cn</th>\n",
       "      <th>prduct_id</th>\n",
       "      <th>prdct_nm</th>\n",
       "      <th>prduct_irdnt_sn</th>\n",
       "      <th>irdnt_korean_cn</th>\n",
       "      <th>irdnt_eng_cn</th>\n",
       "      <th>irdnt_prpos_cn</th>\n",
       "      <th>cont_cn</th>\n",
       "      <th>origin_rm_y</th>\n",
       "    </tr>\n",
       "  </thead>\n",
       "  <tbody>\n",
       "    <tr>\n",
       "      <th>0</th>\n",
       "      <td>96</td>\n",
       "      <td>107-46-0</td>\n",
       "      <td>H225</td>\n",
       "      <td>NaN</td>\n",
       "      <td>NaN</td>\n",
       "      <td>NCIS</td>\n",
       "      <td>헥사메틸다이사이록산</td>\n",
       "      <td>Hexamethyldisiloxane; HMDS</td>\n",
       "      <td>p010553</td>\n",
       "      <td>RainOK 발수코팅 SPEED</td>\n",
       "      <td>5</td>\n",
       "      <td>헥사메틸다이실록세인</td>\n",
       "      <td>Hexamethyldisiloxane</td>\n",
       "      <td>발수제</td>\n",
       "      <td>NaN</td>\n",
       "      <td>초록누리</td>\n",
       "    </tr>\n",
       "    <tr>\n",
       "      <th>1</th>\n",
       "      <td>97</td>\n",
       "      <td>107-46-0</td>\n",
       "      <td>H400</td>\n",
       "      <td>NaN</td>\n",
       "      <td>NaN</td>\n",
       "      <td>NCIS</td>\n",
       "      <td>헥사메틸다이사이록산</td>\n",
       "      <td>Hexamethyldisiloxane; HMDS</td>\n",
       "      <td>p010553</td>\n",
       "      <td>RainOK 발수코팅 SPEED</td>\n",
       "      <td>5</td>\n",
       "      <td>헥사메틸다이실록세인</td>\n",
       "      <td>Hexamethyldisiloxane</td>\n",
       "      <td>발수제</td>\n",
       "      <td>NaN</td>\n",
       "      <td>초록누리</td>\n",
       "    </tr>\n",
       "    <tr>\n",
       "      <th>2</th>\n",
       "      <td>98</td>\n",
       "      <td>107-46-0</td>\n",
       "      <td>H410</td>\n",
       "      <td>NaN</td>\n",
       "      <td>NaN</td>\n",
       "      <td>NCIS</td>\n",
       "      <td>헥사메틸다이사이록산</td>\n",
       "      <td>Hexamethyldisiloxane; HMDS</td>\n",
       "      <td>p010553</td>\n",
       "      <td>RainOK 발수코팅 SPEED</td>\n",
       "      <td>5</td>\n",
       "      <td>헥사메틸다이실록세인</td>\n",
       "      <td>Hexamethyldisiloxane</td>\n",
       "      <td>발수제</td>\n",
       "      <td>NaN</td>\n",
       "      <td>초록누리</td>\n",
       "    </tr>\n",
       "    <tr>\n",
       "      <th>3</th>\n",
       "      <td>9412</td>\n",
       "      <td>107-46-0</td>\n",
       "      <td>H225 (98.96%)</td>\n",
       "      <td>Hexamethyldisiloxane (98.96%)</td>\n",
       "      <td>European Chemicals Agency (ECHA)</td>\n",
       "      <td>PubChem</td>\n",
       "      <td>헥사메틸다이사이록산</td>\n",
       "      <td>Hexamethyldisiloxane; HMDS</td>\n",
       "      <td>p010553</td>\n",
       "      <td>RainOK 발수코팅 SPEED</td>\n",
       "      <td>5</td>\n",
       "      <td>헥사메틸다이실록세인</td>\n",
       "      <td>Hexamethyldisiloxane</td>\n",
       "      <td>발수제</td>\n",
       "      <td>NaN</td>\n",
       "      <td>초록누리</td>\n",
       "    </tr>\n",
       "    <tr>\n",
       "      <th>4</th>\n",
       "      <td>9413</td>\n",
       "      <td>107-46-0</td>\n",
       "      <td>H400 (91.56%)</td>\n",
       "      <td>Hexamethyldisiloxane (91.56%)</td>\n",
       "      <td>European Chemicals Agency (ECHA)</td>\n",
       "      <td>PubChem</td>\n",
       "      <td>헥사메틸다이사이록산</td>\n",
       "      <td>Hexamethyldisiloxane; HMDS</td>\n",
       "      <td>p010553</td>\n",
       "      <td>RainOK 발수코팅 SPEED</td>\n",
       "      <td>5</td>\n",
       "      <td>헥사메틸다이실록세인</td>\n",
       "      <td>Hexamethyldisiloxane</td>\n",
       "      <td>발수제</td>\n",
       "      <td>NaN</td>\n",
       "      <td>초록누리</td>\n",
       "    </tr>\n",
       "  </tbody>\n",
       "</table>\n",
       "</div>"
      ],
      "text/plain": [
       "   sn_no    cas_no          hn_cd                             rm  \\\n",
       "0     96  107-46-0           H225                            NaN   \n",
       "1     97  107-46-0           H400                            NaN   \n",
       "2     98  107-46-0           H410                            NaN   \n",
       "3   9412  107-46-0  H225 (98.96%)  Hexamethyldisiloxane (98.96%)   \n",
       "4   9413  107-46-0  H400 (91.56%)  Hexamethyldisiloxane (91.56%)   \n",
       "\n",
       "                        origin_rm_x qotat_origin_rm chmcls_korean_cn  \\\n",
       "0                               NaN            NCIS       헥사메틸다이사이록산   \n",
       "1                               NaN            NCIS       헥사메틸다이사이록산   \n",
       "2                               NaN            NCIS       헥사메틸다이사이록산   \n",
       "3  European Chemicals Agency (ECHA)         PubChem       헥사메틸다이사이록산   \n",
       "4  European Chemicals Agency (ECHA)         PubChem       헥사메틸다이사이록산   \n",
       "\n",
       "                chmcls_eng_cn prduct_id           prdct_nm  prduct_irdnt_sn  \\\n",
       "0  Hexamethyldisiloxane; HMDS   p010553  RainOK 발수코팅 SPEED                5   \n",
       "1  Hexamethyldisiloxane; HMDS   p010553  RainOK 발수코팅 SPEED                5   \n",
       "2  Hexamethyldisiloxane; HMDS   p010553  RainOK 발수코팅 SPEED                5   \n",
       "3  Hexamethyldisiloxane; HMDS   p010553  RainOK 발수코팅 SPEED                5   \n",
       "4  Hexamethyldisiloxane; HMDS   p010553  RainOK 발수코팅 SPEED                5   \n",
       "\n",
       "  irdnt_korean_cn          irdnt_eng_cn irdnt_prpos_cn cont_cn origin_rm_y  \n",
       "0      헥사메틸다이실록세인  Hexamethyldisiloxane            발수제     NaN        초록누리  \n",
       "1      헥사메틸다이실록세인  Hexamethyldisiloxane            발수제     NaN        초록누리  \n",
       "2      헥사메틸다이실록세인  Hexamethyldisiloxane            발수제     NaN        초록누리  \n",
       "3      헥사메틸다이실록세인  Hexamethyldisiloxane            발수제     NaN        초록누리  \n",
       "4      헥사메틸다이실록세인  Hexamethyldisiloxane            발수제     NaN        초록누리  "
      ]
     },
     "execution_count": 33,
     "metadata": {},
     "output_type": "execute_result"
    }
   ],
   "source": [
    "merged_df.head(5)"
   ]
  },
  {
   "cell_type": "code",
   "execution_count": 42,
   "metadata": {},
   "outputs": [
    {
     "data": {
      "application/vnd.plotly.v1+json": {
       "config": {
        "plotlyServerURL": "https://plot.ly"
       },
       "data": [
        {
         "alignmentgroup": "True",
         "hovertemplate": "CAS등록번호=%{x}<br>개수=%{text}<extra></extra>",
         "legendgroup": "",
         "marker": {
          "color": "#636efa",
          "pattern": {
           "shape": ""
          }
         },
         "name": "",
         "offsetgroup": "",
         "orientation": "v",
         "showlegend": false,
         "text": [
          8016,
          5934,
          5895,
          4841,
          3383
         ],
         "textfont": {
          "size": 15
         },
         "textposition": "outside",
         "type": "bar",
         "x": [
          "80-54-6",
          "138-86-3",
          "76-22-2",
          "74-98-6",
          "497-19-8"
         ],
         "xaxis": "x",
         "y": [
          8016,
          5934,
          5895,
          4841,
          3383
         ],
         "yaxis": "y"
        }
       ],
       "layout": {
        "barmode": "relative",
        "legend": {
         "tracegroupgap": 0
        },
        "template": {
         "data": {
          "bar": [
           {
            "error_x": {
             "color": "#2a3f5f"
            },
            "error_y": {
             "color": "#2a3f5f"
            },
            "marker": {
             "line": {
              "color": "#E5ECF6",
              "width": 0.5
             },
             "pattern": {
              "fillmode": "overlay",
              "size": 10,
              "solidity": 0.2
             }
            },
            "type": "bar"
           }
          ],
          "barpolar": [
           {
            "marker": {
             "line": {
              "color": "#E5ECF6",
              "width": 0.5
             },
             "pattern": {
              "fillmode": "overlay",
              "size": 10,
              "solidity": 0.2
             }
            },
            "type": "barpolar"
           }
          ],
          "carpet": [
           {
            "aaxis": {
             "endlinecolor": "#2a3f5f",
             "gridcolor": "white",
             "linecolor": "white",
             "minorgridcolor": "white",
             "startlinecolor": "#2a3f5f"
            },
            "baxis": {
             "endlinecolor": "#2a3f5f",
             "gridcolor": "white",
             "linecolor": "white",
             "minorgridcolor": "white",
             "startlinecolor": "#2a3f5f"
            },
            "type": "carpet"
           }
          ],
          "choropleth": [
           {
            "colorbar": {
             "outlinewidth": 0,
             "ticks": ""
            },
            "type": "choropleth"
           }
          ],
          "contour": [
           {
            "colorbar": {
             "outlinewidth": 0,
             "ticks": ""
            },
            "colorscale": [
             [
              0,
              "#0d0887"
             ],
             [
              0.1111111111111111,
              "#46039f"
             ],
             [
              0.2222222222222222,
              "#7201a8"
             ],
             [
              0.3333333333333333,
              "#9c179e"
             ],
             [
              0.4444444444444444,
              "#bd3786"
             ],
             [
              0.5555555555555556,
              "#d8576b"
             ],
             [
              0.6666666666666666,
              "#ed7953"
             ],
             [
              0.7777777777777778,
              "#fb9f3a"
             ],
             [
              0.8888888888888888,
              "#fdca26"
             ],
             [
              1,
              "#f0f921"
             ]
            ],
            "type": "contour"
           }
          ],
          "contourcarpet": [
           {
            "colorbar": {
             "outlinewidth": 0,
             "ticks": ""
            },
            "type": "contourcarpet"
           }
          ],
          "heatmap": [
           {
            "colorbar": {
             "outlinewidth": 0,
             "ticks": ""
            },
            "colorscale": [
             [
              0,
              "#0d0887"
             ],
             [
              0.1111111111111111,
              "#46039f"
             ],
             [
              0.2222222222222222,
              "#7201a8"
             ],
             [
              0.3333333333333333,
              "#9c179e"
             ],
             [
              0.4444444444444444,
              "#bd3786"
             ],
             [
              0.5555555555555556,
              "#d8576b"
             ],
             [
              0.6666666666666666,
              "#ed7953"
             ],
             [
              0.7777777777777778,
              "#fb9f3a"
             ],
             [
              0.8888888888888888,
              "#fdca26"
             ],
             [
              1,
              "#f0f921"
             ]
            ],
            "type": "heatmap"
           }
          ],
          "heatmapgl": [
           {
            "colorbar": {
             "outlinewidth": 0,
             "ticks": ""
            },
            "colorscale": [
             [
              0,
              "#0d0887"
             ],
             [
              0.1111111111111111,
              "#46039f"
             ],
             [
              0.2222222222222222,
              "#7201a8"
             ],
             [
              0.3333333333333333,
              "#9c179e"
             ],
             [
              0.4444444444444444,
              "#bd3786"
             ],
             [
              0.5555555555555556,
              "#d8576b"
             ],
             [
              0.6666666666666666,
              "#ed7953"
             ],
             [
              0.7777777777777778,
              "#fb9f3a"
             ],
             [
              0.8888888888888888,
              "#fdca26"
             ],
             [
              1,
              "#f0f921"
             ]
            ],
            "type": "heatmapgl"
           }
          ],
          "histogram": [
           {
            "marker": {
             "pattern": {
              "fillmode": "overlay",
              "size": 10,
              "solidity": 0.2
             }
            },
            "type": "histogram"
           }
          ],
          "histogram2d": [
           {
            "colorbar": {
             "outlinewidth": 0,
             "ticks": ""
            },
            "colorscale": [
             [
              0,
              "#0d0887"
             ],
             [
              0.1111111111111111,
              "#46039f"
             ],
             [
              0.2222222222222222,
              "#7201a8"
             ],
             [
              0.3333333333333333,
              "#9c179e"
             ],
             [
              0.4444444444444444,
              "#bd3786"
             ],
             [
              0.5555555555555556,
              "#d8576b"
             ],
             [
              0.6666666666666666,
              "#ed7953"
             ],
             [
              0.7777777777777778,
              "#fb9f3a"
             ],
             [
              0.8888888888888888,
              "#fdca26"
             ],
             [
              1,
              "#f0f921"
             ]
            ],
            "type": "histogram2d"
           }
          ],
          "histogram2dcontour": [
           {
            "colorbar": {
             "outlinewidth": 0,
             "ticks": ""
            },
            "colorscale": [
             [
              0,
              "#0d0887"
             ],
             [
              0.1111111111111111,
              "#46039f"
             ],
             [
              0.2222222222222222,
              "#7201a8"
             ],
             [
              0.3333333333333333,
              "#9c179e"
             ],
             [
              0.4444444444444444,
              "#bd3786"
             ],
             [
              0.5555555555555556,
              "#d8576b"
             ],
             [
              0.6666666666666666,
              "#ed7953"
             ],
             [
              0.7777777777777778,
              "#fb9f3a"
             ],
             [
              0.8888888888888888,
              "#fdca26"
             ],
             [
              1,
              "#f0f921"
             ]
            ],
            "type": "histogram2dcontour"
           }
          ],
          "mesh3d": [
           {
            "colorbar": {
             "outlinewidth": 0,
             "ticks": ""
            },
            "type": "mesh3d"
           }
          ],
          "parcoords": [
           {
            "line": {
             "colorbar": {
              "outlinewidth": 0,
              "ticks": ""
             }
            },
            "type": "parcoords"
           }
          ],
          "pie": [
           {
            "automargin": true,
            "type": "pie"
           }
          ],
          "scatter": [
           {
            "fillpattern": {
             "fillmode": "overlay",
             "size": 10,
             "solidity": 0.2
            },
            "type": "scatter"
           }
          ],
          "scatter3d": [
           {
            "line": {
             "colorbar": {
              "outlinewidth": 0,
              "ticks": ""
             }
            },
            "marker": {
             "colorbar": {
              "outlinewidth": 0,
              "ticks": ""
             }
            },
            "type": "scatter3d"
           }
          ],
          "scattercarpet": [
           {
            "marker": {
             "colorbar": {
              "outlinewidth": 0,
              "ticks": ""
             }
            },
            "type": "scattercarpet"
           }
          ],
          "scattergeo": [
           {
            "marker": {
             "colorbar": {
              "outlinewidth": 0,
              "ticks": ""
             }
            },
            "type": "scattergeo"
           }
          ],
          "scattergl": [
           {
            "marker": {
             "colorbar": {
              "outlinewidth": 0,
              "ticks": ""
             }
            },
            "type": "scattergl"
           }
          ],
          "scattermapbox": [
           {
            "marker": {
             "colorbar": {
              "outlinewidth": 0,
              "ticks": ""
             }
            },
            "type": "scattermapbox"
           }
          ],
          "scatterpolar": [
           {
            "marker": {
             "colorbar": {
              "outlinewidth": 0,
              "ticks": ""
             }
            },
            "type": "scatterpolar"
           }
          ],
          "scatterpolargl": [
           {
            "marker": {
             "colorbar": {
              "outlinewidth": 0,
              "ticks": ""
             }
            },
            "type": "scatterpolargl"
           }
          ],
          "scatterternary": [
           {
            "marker": {
             "colorbar": {
              "outlinewidth": 0,
              "ticks": ""
             }
            },
            "type": "scatterternary"
           }
          ],
          "surface": [
           {
            "colorbar": {
             "outlinewidth": 0,
             "ticks": ""
            },
            "colorscale": [
             [
              0,
              "#0d0887"
             ],
             [
              0.1111111111111111,
              "#46039f"
             ],
             [
              0.2222222222222222,
              "#7201a8"
             ],
             [
              0.3333333333333333,
              "#9c179e"
             ],
             [
              0.4444444444444444,
              "#bd3786"
             ],
             [
              0.5555555555555556,
              "#d8576b"
             ],
             [
              0.6666666666666666,
              "#ed7953"
             ],
             [
              0.7777777777777778,
              "#fb9f3a"
             ],
             [
              0.8888888888888888,
              "#fdca26"
             ],
             [
              1,
              "#f0f921"
             ]
            ],
            "type": "surface"
           }
          ],
          "table": [
           {
            "cells": {
             "fill": {
              "color": "#EBF0F8"
             },
             "line": {
              "color": "white"
             }
            },
            "header": {
             "fill": {
              "color": "#C8D4E3"
             },
             "line": {
              "color": "white"
             }
            },
            "type": "table"
           }
          ]
         },
         "layout": {
          "annotationdefaults": {
           "arrowcolor": "#2a3f5f",
           "arrowhead": 0,
           "arrowwidth": 1
          },
          "autotypenumbers": "strict",
          "coloraxis": {
           "colorbar": {
            "outlinewidth": 0,
            "ticks": ""
           }
          },
          "colorscale": {
           "diverging": [
            [
             0,
             "#8e0152"
            ],
            [
             0.1,
             "#c51b7d"
            ],
            [
             0.2,
             "#de77ae"
            ],
            [
             0.3,
             "#f1b6da"
            ],
            [
             0.4,
             "#fde0ef"
            ],
            [
             0.5,
             "#f7f7f7"
            ],
            [
             0.6,
             "#e6f5d0"
            ],
            [
             0.7,
             "#b8e186"
            ],
            [
             0.8,
             "#7fbc41"
            ],
            [
             0.9,
             "#4d9221"
            ],
            [
             1,
             "#276419"
            ]
           ],
           "sequential": [
            [
             0,
             "#0d0887"
            ],
            [
             0.1111111111111111,
             "#46039f"
            ],
            [
             0.2222222222222222,
             "#7201a8"
            ],
            [
             0.3333333333333333,
             "#9c179e"
            ],
            [
             0.4444444444444444,
             "#bd3786"
            ],
            [
             0.5555555555555556,
             "#d8576b"
            ],
            [
             0.6666666666666666,
             "#ed7953"
            ],
            [
             0.7777777777777778,
             "#fb9f3a"
            ],
            [
             0.8888888888888888,
             "#fdca26"
            ],
            [
             1,
             "#f0f921"
            ]
           ],
           "sequentialminus": [
            [
             0,
             "#0d0887"
            ],
            [
             0.1111111111111111,
             "#46039f"
            ],
            [
             0.2222222222222222,
             "#7201a8"
            ],
            [
             0.3333333333333333,
             "#9c179e"
            ],
            [
             0.4444444444444444,
             "#bd3786"
            ],
            [
             0.5555555555555556,
             "#d8576b"
            ],
            [
             0.6666666666666666,
             "#ed7953"
            ],
            [
             0.7777777777777778,
             "#fb9f3a"
            ],
            [
             0.8888888888888888,
             "#fdca26"
            ],
            [
             1,
             "#f0f921"
            ]
           ]
          },
          "colorway": [
           "#636efa",
           "#EF553B",
           "#00cc96",
           "#ab63fa",
           "#FFA15A",
           "#19d3f3",
           "#FF6692",
           "#B6E880",
           "#FF97FF",
           "#FECB52"
          ],
          "font": {
           "color": "#2a3f5f"
          },
          "geo": {
           "bgcolor": "white",
           "lakecolor": "white",
           "landcolor": "#E5ECF6",
           "showlakes": true,
           "showland": true,
           "subunitcolor": "white"
          },
          "hoverlabel": {
           "align": "left"
          },
          "hovermode": "closest",
          "mapbox": {
           "style": "light"
          },
          "paper_bgcolor": "white",
          "plot_bgcolor": "#E5ECF6",
          "polar": {
           "angularaxis": {
            "gridcolor": "white",
            "linecolor": "white",
            "ticks": ""
           },
           "bgcolor": "#E5ECF6",
           "radialaxis": {
            "gridcolor": "white",
            "linecolor": "white",
            "ticks": ""
           }
          },
          "scene": {
           "xaxis": {
            "backgroundcolor": "#E5ECF6",
            "gridcolor": "white",
            "gridwidth": 2,
            "linecolor": "white",
            "showbackground": true,
            "ticks": "",
            "zerolinecolor": "white"
           },
           "yaxis": {
            "backgroundcolor": "#E5ECF6",
            "gridcolor": "white",
            "gridwidth": 2,
            "linecolor": "white",
            "showbackground": true,
            "ticks": "",
            "zerolinecolor": "white"
           },
           "zaxis": {
            "backgroundcolor": "#E5ECF6",
            "gridcolor": "white",
            "gridwidth": 2,
            "linecolor": "white",
            "showbackground": true,
            "ticks": "",
            "zerolinecolor": "white"
           }
          },
          "shapedefaults": {
           "line": {
            "color": "#2a3f5f"
           }
          },
          "ternary": {
           "aaxis": {
            "gridcolor": "white",
            "linecolor": "white",
            "ticks": ""
           },
           "baxis": {
            "gridcolor": "white",
            "linecolor": "white",
            "ticks": ""
           },
           "bgcolor": "#E5ECF6",
           "caxis": {
            "gridcolor": "white",
            "linecolor": "white",
            "ticks": ""
           }
          },
          "title": {
           "x": 0.05
          },
          "xaxis": {
           "automargin": true,
           "gridcolor": "white",
           "linecolor": "white",
           "ticks": "",
           "title": {
            "standoff": 15
           },
           "zerolinecolor": "white",
           "zerolinewidth": 2
          },
          "yaxis": {
           "automargin": true,
           "gridcolor": "white",
           "linecolor": "white",
           "ticks": "",
           "title": {
            "standoff": 15
           },
           "zerolinecolor": "white",
           "zerolinewidth": 2
          }
         }
        },
        "title": {
         "text": "Top 5 화학물질"
        },
        "xaxis": {
         "anchor": "y",
         "domain": [
          0,
          1
         ],
         "title": {
          "font": {
           "size": 20
          },
          "text": "CAS 등록번호"
         }
        },
        "yaxis": {
         "anchor": "x",
         "domain": [
          0,
          1
         ],
         "title": {
          "font": {
           "size": 20
          },
          "text": "개수"
         }
        }
       }
      }
     },
     "metadata": {},
     "output_type": "display_data"
    }
   ],
   "source": [
    "top_cas_no = merged_df['cas_no'].value_counts().head(5).reset_index()\n",
    "top_cas_no.columns = ['cas_no', 'count']\n",
    "\n",
    "fig = px.bar(top_cas_no, x='cas_no', y='count', \n",
    "             labels={'cas_no': 'CAS등록번호', 'count': '개수'}, \n",
    "             title='Top 5 화학물질',\n",
    "             text='count')\n",
    "\n",
    "fig.update_layout(xaxis_title='CAS 등록번호', yaxis_title='개수')\n",
    "fig.update_traces(textposition='outside')\n",
    "\n",
    "fig.update_layout(xaxis=dict(title=dict(font=dict(size=20))),\n",
    "                  yaxis=dict(title=dict(font=dict(size=20))))\n",
    "\n",
    "fig.update_traces(textfont_size=10)\n",
    "\n",
    "fig.update_traces(textfont=dict(size=15))\n",
    "\n",
    "fig.show()"
   ]
  },
  {
   "cell_type": "markdown",
   "metadata": {},
   "source": [
    "#### CAS번호, 화학물질명\n",
    "- 80-54-6 = p-3차-뷰틸-알파-메틸하이드로신남알데하이드\n",
    "- 138-86-3 = 리모넨\n",
    "- 76-22-2 = 캄포르\n",
    "- 74-98-6 = 프로페인\n",
    "- 497-19-8 = 탄산나트륨"
   ]
  }
 ],
 "metadata": {
  "kernelspec": {
   "display_name": "base",
   "language": "python",
   "name": "python3"
  },
  "language_info": {
   "codemirror_mode": {
    "name": "ipython",
    "version": 3
   },
   "file_extension": ".py",
   "mimetype": "text/x-python",
   "name": "python",
   "nbconvert_exporter": "python",
   "pygments_lexer": "ipython3",
   "version": "3.9.13"
  }
 },
 "nbformat": 4,
 "nbformat_minor": 2
}
